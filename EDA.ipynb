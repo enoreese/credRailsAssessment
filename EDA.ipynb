{
 "cells": [
  {
   "cell_type": "code",
   "execution_count": 1,
   "id": "a3dcfa07-a265-42b1-b51c-b6b5eb3deb79",
   "metadata": {},
   "outputs": [],
   "source": [
    "import pandas as pd\n",
    "import numpy as np"
   ]
  },
  {
   "cell_type": "code",
   "execution_count": 2,
   "id": "dc2716c9-4b6c-40c3-9073-b49131963b61",
   "metadata": {},
   "outputs": [
    {
     "data": {
      "text/plain": [
       "(10000, 10)"
      ]
     },
     "execution_count": 2,
     "metadata": {},
     "output_type": "execute_result"
    }
   ],
   "source": [
    "data = pd.read_csv('data/financial_transactions_10k.csv')\n",
    "data.shape"
   ]
  },
  {
   "cell_type": "code",
   "execution_count": 3,
   "id": "065a3071-87a9-40b1-b8fd-015bfadb0e89",
   "metadata": {},
   "outputs": [
    {
     "data": {
      "text/html": [
       "<div>\n",
       "<style scoped>\n",
       "    .dataframe tbody tr th:only-of-type {\n",
       "        vertical-align: middle;\n",
       "    }\n",
       "\n",
       "    .dataframe tbody tr th {\n",
       "        vertical-align: top;\n",
       "    }\n",
       "\n",
       "    .dataframe thead th {\n",
       "        text-align: right;\n",
       "    }\n",
       "</style>\n",
       "<table border=\"1\" class=\"dataframe\">\n",
       "  <thead>\n",
       "    <tr style=\"text-align: right;\">\n",
       "      <th></th>\n",
       "      <th>Transaction_ID</th>\n",
       "      <th>Date</th>\n",
       "      <th>Time</th>\n",
       "      <th>Customer_ID</th>\n",
       "      <th>Product_ID</th>\n",
       "      <th>Amount</th>\n",
       "      <th>Payment_Type</th>\n",
       "      <th>Country</th>\n",
       "      <th>Merchant_ID</th>\n",
       "      <th>Status</th>\n",
       "    </tr>\n",
       "  </thead>\n",
       "  <tbody>\n",
       "    <tr>\n",
       "      <th>0</th>\n",
       "      <td>TX10000</td>\n",
       "      <td>2023-07-29</td>\n",
       "      <td>14:13:23</td>\n",
       "      <td>C2110</td>\n",
       "      <td>P66</td>\n",
       "      <td>312.09</td>\n",
       "      <td>PayPal</td>\n",
       "      <td>USA</td>\n",
       "      <td>M3</td>\n",
       "      <td>Pending</td>\n",
       "    </tr>\n",
       "    <tr>\n",
       "      <th>1</th>\n",
       "      <td>TX10001</td>\n",
       "      <td>2024-01-10</td>\n",
       "      <td>20:47:29</td>\n",
       "      <td>C8028</td>\n",
       "      <td>P53</td>\n",
       "      <td>57.23</td>\n",
       "      <td>PayPal</td>\n",
       "      <td>Australia</td>\n",
       "      <td>M13</td>\n",
       "      <td>Pending</td>\n",
       "    </tr>\n",
       "    <tr>\n",
       "      <th>2</th>\n",
       "      <td>TX10002</td>\n",
       "      <td>2023-07-17</td>\n",
       "      <td>21:06:18</td>\n",
       "      <td>C3841</td>\n",
       "      <td>P91</td>\n",
       "      <td>109.85</td>\n",
       "      <td>Credit Card</td>\n",
       "      <td>Canada</td>\n",
       "      <td>M34</td>\n",
       "      <td>Chargeback</td>\n",
       "    </tr>\n",
       "    <tr>\n",
       "      <th>3</th>\n",
       "      <td>TX10003</td>\n",
       "      <td>2024-04-28</td>\n",
       "      <td>02:24:08</td>\n",
       "      <td>C8116</td>\n",
       "      <td>P24</td>\n",
       "      <td>280.57</td>\n",
       "      <td>Credit Card</td>\n",
       "      <td>UK</td>\n",
       "      <td>M24</td>\n",
       "      <td>Completed</td>\n",
       "    </tr>\n",
       "    <tr>\n",
       "      <th>4</th>\n",
       "      <td>TX10004</td>\n",
       "      <td>2023-12-23</td>\n",
       "      <td>01:45:04</td>\n",
       "      <td>C9399</td>\n",
       "      <td>P52</td>\n",
       "      <td>148.74</td>\n",
       "      <td>NaN</td>\n",
       "      <td>USA</td>\n",
       "      <td>M21</td>\n",
       "      <td>Refunded</td>\n",
       "    </tr>\n",
       "  </tbody>\n",
       "</table>\n",
       "</div>"
      ],
      "text/plain": [
       "  Transaction_ID        Date      Time Customer_ID Product_ID  Amount  \\\n",
       "0        TX10000  2023-07-29  14:13:23       C2110        P66  312.09   \n",
       "1        TX10001  2024-01-10  20:47:29       C8028        P53   57.23   \n",
       "2        TX10002  2023-07-17  21:06:18       C3841        P91  109.85   \n",
       "3        TX10003  2024-04-28  02:24:08       C8116        P24  280.57   \n",
       "4        TX10004  2023-12-23  01:45:04       C9399        P52  148.74   \n",
       "\n",
       "  Payment_Type    Country Merchant_ID      Status  \n",
       "0       PayPal        USA          M3     Pending  \n",
       "1       PayPal  Australia         M13     Pending  \n",
       "2  Credit Card     Canada         M34  Chargeback  \n",
       "3  Credit Card         UK         M24   Completed  \n",
       "4          NaN        USA         M21    Refunded  "
      ]
     },
     "execution_count": 3,
     "metadata": {},
     "output_type": "execute_result"
    }
   ],
   "source": [
    "data.head()"
   ]
  },
  {
   "cell_type": "code",
   "execution_count": 4,
   "id": "b59dd890-5462-4a61-9116-a312ae03da63",
   "metadata": {},
   "outputs": [
    {
     "data": {
      "text/plain": [
       "6005"
      ]
     },
     "execution_count": 4,
     "metadata": {},
     "output_type": "execute_result"
    }
   ],
   "source": [
    "data['Customer_ID'].nunique()"
   ]
  },
  {
   "cell_type": "code",
   "execution_count": 5,
   "id": "ddafd29d-b6ee-491f-931c-c198d45e85c3",
   "metadata": {},
   "outputs": [
    {
     "data": {
      "text/html": [
       "<div>\n",
       "<style scoped>\n",
       "    .dataframe tbody tr th:only-of-type {\n",
       "        vertical-align: middle;\n",
       "    }\n",
       "\n",
       "    .dataframe tbody tr th {\n",
       "        vertical-align: top;\n",
       "    }\n",
       "\n",
       "    .dataframe thead th {\n",
       "        text-align: right;\n",
       "    }\n",
       "</style>\n",
       "<table border=\"1\" class=\"dataframe\">\n",
       "  <thead>\n",
       "    <tr style=\"text-align: right;\">\n",
       "      <th></th>\n",
       "      <th>Amount</th>\n",
       "    </tr>\n",
       "  </thead>\n",
       "  <tbody>\n",
       "    <tr>\n",
       "      <th>count</th>\n",
       "      <td>9500.000000</td>\n",
       "    </tr>\n",
       "    <tr>\n",
       "      <th>mean</th>\n",
       "      <td>242.164057</td>\n",
       "    </tr>\n",
       "    <tr>\n",
       "      <th>std</th>\n",
       "      <td>177.575880</td>\n",
       "    </tr>\n",
       "    <tr>\n",
       "      <th>min</th>\n",
       "      <td>8.410000</td>\n",
       "    </tr>\n",
       "    <tr>\n",
       "      <th>25%</th>\n",
       "      <td>114.367500</td>\n",
       "    </tr>\n",
       "    <tr>\n",
       "      <th>50%</th>\n",
       "      <td>207.790000</td>\n",
       "    </tr>\n",
       "    <tr>\n",
       "      <th>75%</th>\n",
       "      <td>323.015000</td>\n",
       "    </tr>\n",
       "    <tr>\n",
       "      <th>max</th>\n",
       "      <td>1473.990000</td>\n",
       "    </tr>\n",
       "  </tbody>\n",
       "</table>\n",
       "</div>"
      ],
      "text/plain": [
       "            Amount\n",
       "count  9500.000000\n",
       "mean    242.164057\n",
       "std     177.575880\n",
       "min       8.410000\n",
       "25%     114.367500\n",
       "50%     207.790000\n",
       "75%     323.015000\n",
       "max    1473.990000"
      ]
     },
     "execution_count": 5,
     "metadata": {},
     "output_type": "execute_result"
    }
   ],
   "source": [
    "data.describe()"
   ]
  },
  {
   "cell_type": "code",
   "execution_count": 6,
   "id": "fe9cabc3-3845-4581-95c8-ecbce9cf5bb6",
   "metadata": {},
   "outputs": [
    {
     "name": "stdout",
     "output_type": "stream",
     "text": [
      "<class 'pandas.core.frame.DataFrame'>\n",
      "RangeIndex: 10000 entries, 0 to 9999\n",
      "Data columns (total 10 columns):\n",
      " #   Column          Non-Null Count  Dtype  \n",
      "---  ------          --------------  -----  \n",
      " 0   Transaction_ID  10000 non-null  object \n",
      " 1   Date            10000 non-null  object \n",
      " 2   Time            10000 non-null  object \n",
      " 3   Customer_ID     10000 non-null  object \n",
      " 4   Product_ID      10000 non-null  object \n",
      " 5   Amount          9500 non-null   float64\n",
      " 6   Payment_Type    9000 non-null   object \n",
      " 7   Country         9500 non-null   object \n",
      " 8   Merchant_ID     10000 non-null  object \n",
      " 9   Status          10000 non-null  object \n",
      "dtypes: float64(1), object(9)\n",
      "memory usage: 781.4+ KB\n"
     ]
    }
   ],
   "source": [
    "data.info()"
   ]
  },
  {
   "cell_type": "code",
   "execution_count": 7,
   "id": "5623079d-ad38-45e4-8ec5-d4e87653d16f",
   "metadata": {},
   "outputs": [
    {
     "data": {
      "text/plain": [
       "Transaction_ID    0.00\n",
       "Date              0.00\n",
       "Time              0.00\n",
       "Customer_ID       0.00\n",
       "Product_ID        0.00\n",
       "Amount            0.05\n",
       "Payment_Type      0.10\n",
       "Country           0.05\n",
       "Merchant_ID       0.00\n",
       "Status            0.00\n",
       "dtype: float64"
      ]
     },
     "execution_count": 7,
     "metadata": {},
     "output_type": "execute_result"
    }
   ],
   "source": [
    "data.isnull().sum()/data.shape[0]"
   ]
  },
  {
   "cell_type": "code",
   "execution_count": 8,
   "id": "397a1494-11bb-4904-9cc3-a81db95a47cb",
   "metadata": {},
   "outputs": [
    {
     "data": {
      "text/plain": [
       "Status\n",
       "Completed     2545\n",
       "Pending       2221\n",
       "Refunded      2108\n",
       "Cancelled     1651\n",
       "Chargeback    1475\n",
       "Name: count, dtype: int64"
      ]
     },
     "execution_count": 8,
     "metadata": {},
     "output_type": "execute_result"
    }
   ],
   "source": [
    "data['Status'].value_counts()"
   ]
  },
  {
   "cell_type": "code",
   "execution_count": 9,
   "id": "38aa39ce-098e-40e0-8473-f3a0f86a811e",
   "metadata": {},
   "outputs": [],
   "source": [
    "data.columns = ['transaction_id','date','time','customer_id','product_id','amount','payment_type','country','merchant_id','status']"
   ]
  },
  {
   "cell_type": "code",
   "execution_count": 10,
   "id": "74c67c7a-9ef9-40eb-b737-d67be134da11",
   "metadata": {},
   "outputs": [
    {
     "data": {
      "text/html": [
       "<div>\n",
       "<style scoped>\n",
       "    .dataframe tbody tr th:only-of-type {\n",
       "        vertical-align: middle;\n",
       "    }\n",
       "\n",
       "    .dataframe tbody tr th {\n",
       "        vertical-align: top;\n",
       "    }\n",
       "\n",
       "    .dataframe thead th {\n",
       "        text-align: right;\n",
       "    }\n",
       "</style>\n",
       "<table border=\"1\" class=\"dataframe\">\n",
       "  <thead>\n",
       "    <tr style=\"text-align: right;\">\n",
       "      <th></th>\n",
       "      <th>transaction_id</th>\n",
       "      <th>date</th>\n",
       "      <th>time</th>\n",
       "      <th>customer_id</th>\n",
       "      <th>product_id</th>\n",
       "      <th>amount</th>\n",
       "      <th>payment_type</th>\n",
       "      <th>country</th>\n",
       "      <th>merchant_id</th>\n",
       "      <th>status</th>\n",
       "    </tr>\n",
       "  </thead>\n",
       "  <tbody>\n",
       "    <tr>\n",
       "      <th>2151</th>\n",
       "      <td>TX12151</td>\n",
       "      <td>2023-12-02</td>\n",
       "      <td>13:37:50</td>\n",
       "      <td>C7116</td>\n",
       "      <td>P62</td>\n",
       "      <td>209.23</td>\n",
       "      <td>Credit Card</td>\n",
       "      <td>USA</td>\n",
       "      <td>M48</td>\n",
       "      <td>Completed</td>\n",
       "    </tr>\n",
       "    <tr>\n",
       "      <th>3293</th>\n",
       "      <td>TX13293</td>\n",
       "      <td>2023-08-15</td>\n",
       "      <td>12:35:23</td>\n",
       "      <td>C8997</td>\n",
       "      <td>P2</td>\n",
       "      <td>36.25</td>\n",
       "      <td>Credit Card</td>\n",
       "      <td>UK</td>\n",
       "      <td>M50</td>\n",
       "      <td>Refunded</td>\n",
       "    </tr>\n",
       "    <tr>\n",
       "      <th>7480</th>\n",
       "      <td>TX17480</td>\n",
       "      <td>2023-12-06</td>\n",
       "      <td>18:28:26</td>\n",
       "      <td>C4700</td>\n",
       "      <td>P11</td>\n",
       "      <td>214.85</td>\n",
       "      <td>Credit Card</td>\n",
       "      <td>USA</td>\n",
       "      <td>M19</td>\n",
       "      <td>Chargeback</td>\n",
       "    </tr>\n",
       "    <tr>\n",
       "      <th>9080</th>\n",
       "      <td>TX19080</td>\n",
       "      <td>2024-03-21</td>\n",
       "      <td>10:01:49</td>\n",
       "      <td>C5934</td>\n",
       "      <td>P30</td>\n",
       "      <td>272.66</td>\n",
       "      <td>PayPal</td>\n",
       "      <td>USA</td>\n",
       "      <td>M22</td>\n",
       "      <td>Pending</td>\n",
       "    </tr>\n",
       "    <tr>\n",
       "      <th>2841</th>\n",
       "      <td>TX12841</td>\n",
       "      <td>2023-09-13</td>\n",
       "      <td>05:16:31</td>\n",
       "      <td>C3118</td>\n",
       "      <td>P2</td>\n",
       "      <td>352.79</td>\n",
       "      <td>PayPal</td>\n",
       "      <td>Canada</td>\n",
       "      <td>M42</td>\n",
       "      <td>Chargeback</td>\n",
       "    </tr>\n",
       "  </tbody>\n",
       "</table>\n",
       "</div>"
      ],
      "text/plain": [
       "     transaction_id        date      time customer_id product_id  amount  \\\n",
       "2151        TX12151  2023-12-02  13:37:50       C7116        P62  209.23   \n",
       "3293        TX13293  2023-08-15  12:35:23       C8997         P2   36.25   \n",
       "7480        TX17480  2023-12-06  18:28:26       C4700        P11  214.85   \n",
       "9080        TX19080  2024-03-21  10:01:49       C5934        P30  272.66   \n",
       "2841        TX12841  2023-09-13  05:16:31       C3118         P2  352.79   \n",
       "\n",
       "     payment_type country merchant_id      status  \n",
       "2151  Credit Card     USA         M48   Completed  \n",
       "3293  Credit Card      UK         M50    Refunded  \n",
       "7480  Credit Card     USA         M19  Chargeback  \n",
       "9080       PayPal     USA         M22     Pending  \n",
       "2841       PayPal  Canada         M42  Chargeback  "
      ]
     },
     "execution_count": 10,
     "metadata": {},
     "output_type": "execute_result"
    }
   ],
   "source": [
    "data.sample(5)"
   ]
  },
  {
   "cell_type": "code",
   "execution_count": 11,
   "id": "36dfba9e-230a-4340-846f-3a13de3cb99d",
   "metadata": {
    "scrolled": true
   },
   "outputs": [
    {
     "data": {
      "text/html": [
       "<div>\n",
       "<style scoped>\n",
       "    .dataframe tbody tr th:only-of-type {\n",
       "        vertical-align: middle;\n",
       "    }\n",
       "\n",
       "    .dataframe tbody tr th {\n",
       "        vertical-align: top;\n",
       "    }\n",
       "\n",
       "    .dataframe thead th {\n",
       "        text-align: right;\n",
       "    }\n",
       "</style>\n",
       "<table border=\"1\" class=\"dataframe\">\n",
       "  <thead>\n",
       "    <tr style=\"text-align: right;\">\n",
       "      <th></th>\n",
       "      <th>transaction_id</th>\n",
       "      <th>date</th>\n",
       "      <th>time</th>\n",
       "      <th>customer_id</th>\n",
       "      <th>product_id</th>\n",
       "      <th>amount</th>\n",
       "      <th>payment_type</th>\n",
       "      <th>country</th>\n",
       "      <th>merchant_id</th>\n",
       "      <th>status</th>\n",
       "    </tr>\n",
       "  </thead>\n",
       "  <tbody>\n",
       "    <tr>\n",
       "      <th>8745</th>\n",
       "      <td>TX18745</td>\n",
       "      <td>2024-01-05</td>\n",
       "      <td>16:10:21</td>\n",
       "      <td>C4910</td>\n",
       "      <td>P12</td>\n",
       "      <td>NaN</td>\n",
       "      <td>Credit Card</td>\n",
       "      <td>UK</td>\n",
       "      <td>M16</td>\n",
       "      <td>Completed</td>\n",
       "    </tr>\n",
       "    <tr>\n",
       "      <th>7128</th>\n",
       "      <td>TX17128</td>\n",
       "      <td>2023-12-18</td>\n",
       "      <td>10:41:45</td>\n",
       "      <td>C4532</td>\n",
       "      <td>P66</td>\n",
       "      <td>NaN</td>\n",
       "      <td>Credit Card</td>\n",
       "      <td>USA</td>\n",
       "      <td>M15</td>\n",
       "      <td>Pending</td>\n",
       "    </tr>\n",
       "    <tr>\n",
       "      <th>6236</th>\n",
       "      <td>TX16236</td>\n",
       "      <td>2023-11-07</td>\n",
       "      <td>01:03:42</td>\n",
       "      <td>C2972</td>\n",
       "      <td>P34</td>\n",
       "      <td>NaN</td>\n",
       "      <td>PayPal</td>\n",
       "      <td>UK</td>\n",
       "      <td>M17</td>\n",
       "      <td>Completed</td>\n",
       "    </tr>\n",
       "    <tr>\n",
       "      <th>9805</th>\n",
       "      <td>TX19805</td>\n",
       "      <td>2024-01-27</td>\n",
       "      <td>21:56:29</td>\n",
       "      <td>C2803</td>\n",
       "      <td>P31</td>\n",
       "      <td>NaN</td>\n",
       "      <td>Credit Card</td>\n",
       "      <td>Canada</td>\n",
       "      <td>M2</td>\n",
       "      <td>Completed</td>\n",
       "    </tr>\n",
       "    <tr>\n",
       "      <th>2364</th>\n",
       "      <td>TX12364</td>\n",
       "      <td>2023-07-23</td>\n",
       "      <td>15:15:42</td>\n",
       "      <td>C5295</td>\n",
       "      <td>P26</td>\n",
       "      <td>NaN</td>\n",
       "      <td>Debit Card</td>\n",
       "      <td>UK</td>\n",
       "      <td>M39</td>\n",
       "      <td>Cancelled</td>\n",
       "    </tr>\n",
       "    <tr>\n",
       "      <th>8815</th>\n",
       "      <td>TX18815</td>\n",
       "      <td>2023-10-20</td>\n",
       "      <td>19:33:25</td>\n",
       "      <td>C4788</td>\n",
       "      <td>P28</td>\n",
       "      <td>NaN</td>\n",
       "      <td>Credit Card</td>\n",
       "      <td>Canada</td>\n",
       "      <td>M34</td>\n",
       "      <td>Chargeback</td>\n",
       "    </tr>\n",
       "    <tr>\n",
       "      <th>6303</th>\n",
       "      <td>TX16303</td>\n",
       "      <td>2024-03-21</td>\n",
       "      <td>19:50:11</td>\n",
       "      <td>C6131</td>\n",
       "      <td>P4</td>\n",
       "      <td>NaN</td>\n",
       "      <td>Credit Card</td>\n",
       "      <td>Canada</td>\n",
       "      <td>M23</td>\n",
       "      <td>Cancelled</td>\n",
       "    </tr>\n",
       "    <tr>\n",
       "      <th>5671</th>\n",
       "      <td>TX15671</td>\n",
       "      <td>2024-03-29</td>\n",
       "      <td>13:35:13</td>\n",
       "      <td>C1564</td>\n",
       "      <td>P27</td>\n",
       "      <td>NaN</td>\n",
       "      <td>Debit Card</td>\n",
       "      <td>USA</td>\n",
       "      <td>M43</td>\n",
       "      <td>Refunded</td>\n",
       "    </tr>\n",
       "    <tr>\n",
       "      <th>4384</th>\n",
       "      <td>TX14384</td>\n",
       "      <td>2024-04-10</td>\n",
       "      <td>03:42:53</td>\n",
       "      <td>C5372</td>\n",
       "      <td>P5</td>\n",
       "      <td>NaN</td>\n",
       "      <td>Debit Card</td>\n",
       "      <td>Canada</td>\n",
       "      <td>M12</td>\n",
       "      <td>Pending</td>\n",
       "    </tr>\n",
       "    <tr>\n",
       "      <th>9494</th>\n",
       "      <td>TX19494</td>\n",
       "      <td>2023-06-27</td>\n",
       "      <td>02:21:53</td>\n",
       "      <td>C5315</td>\n",
       "      <td>P55</td>\n",
       "      <td>NaN</td>\n",
       "      <td>Debit Card</td>\n",
       "      <td>UK</td>\n",
       "      <td>M33</td>\n",
       "      <td>Pending</td>\n",
       "    </tr>\n",
       "  </tbody>\n",
       "</table>\n",
       "</div>"
      ],
      "text/plain": [
       "     transaction_id        date      time customer_id product_id  amount  \\\n",
       "8745        TX18745  2024-01-05  16:10:21       C4910        P12     NaN   \n",
       "7128        TX17128  2023-12-18  10:41:45       C4532        P66     NaN   \n",
       "6236        TX16236  2023-11-07  01:03:42       C2972        P34     NaN   \n",
       "9805        TX19805  2024-01-27  21:56:29       C2803        P31     NaN   \n",
       "2364        TX12364  2023-07-23  15:15:42       C5295        P26     NaN   \n",
       "8815        TX18815  2023-10-20  19:33:25       C4788        P28     NaN   \n",
       "6303        TX16303  2024-03-21  19:50:11       C6131         P4     NaN   \n",
       "5671        TX15671  2024-03-29  13:35:13       C1564        P27     NaN   \n",
       "4384        TX14384  2024-04-10  03:42:53       C5372         P5     NaN   \n",
       "9494        TX19494  2023-06-27  02:21:53       C5315        P55     NaN   \n",
       "\n",
       "     payment_type country merchant_id      status  \n",
       "8745  Credit Card      UK         M16   Completed  \n",
       "7128  Credit Card     USA         M15     Pending  \n",
       "6236       PayPal      UK         M17   Completed  \n",
       "9805  Credit Card  Canada          M2   Completed  \n",
       "2364   Debit Card      UK         M39   Cancelled  \n",
       "8815  Credit Card  Canada         M34  Chargeback  \n",
       "6303  Credit Card  Canada         M23   Cancelled  \n",
       "5671   Debit Card     USA         M43    Refunded  \n",
       "4384   Debit Card  Canada         M12     Pending  \n",
       "9494   Debit Card      UK         M33     Pending  "
      ]
     },
     "execution_count": 11,
     "metadata": {},
     "output_type": "execute_result"
    }
   ],
   "source": [
    "data[data.amount.isnull()].sample(10)"
   ]
  },
  {
   "cell_type": "code",
   "execution_count": 12,
   "id": "b56e47a2-c1d2-4875-ac48-8e841e990146",
   "metadata": {},
   "outputs": [],
   "source": [
    "dt_cols = ['date','time']\n",
    "num_cols = ['amount']\n",
    "cat_cols = ['payment_type','country']\n",
    "ids_cols = ['transaction_id','customer_id','product_id','merchant_id']\n",
    "target = 'status'"
   ]
  },
  {
   "cell_type": "markdown",
   "id": "12178c86-3880-4b6f-8ac6-f3e3231d8922",
   "metadata": {},
   "source": [
    "## Exploratory Data Analysis (EDA)"
   ]
  },
  {
   "cell_type": "code",
   "execution_count": 13,
   "id": "506a1c17-efce-4f1c-a0ee-5b30ce1bbafa",
   "metadata": {},
   "outputs": [],
   "source": [
    "# import visualization libraries\n",
    "import matplotlib.pyplot as plt\n",
    "import seaborn as sns"
   ]
  },
  {
   "cell_type": "markdown",
   "id": "eca347b8-633c-4829-b852-f76bf5488aed",
   "metadata": {},
   "source": [
    "### Check Total USD (with exchange rate)"
   ]
  },
  {
   "cell_type": "code",
   "execution_count": 14,
   "id": "5740b0b4-e108-4fc1-bf93-dd1a42532ceb",
   "metadata": {},
   "outputs": [
    {
     "data": {
      "text/plain": [
       "<seaborn.axisgrid.FacetGrid at 0x110e1a5f0>"
      ]
     },
     "execution_count": 14,
     "metadata": {},
     "output_type": "execute_result"
    },
    {
     "data": {
      "image/png": "[encoded data removed]",
      "text/plain": [
       "<Figure size 500x500 with 1 Axes>"
      ]
     },
     "metadata": {},
     "output_type": "display_data"
    }
   ],
   "source": [
    "# check distriubution for amount\n",
    "sns.displot(data=data, x='amount')"
   ]
  },
  {
   "cell_type": "code",
   "execution_count": 15,
   "id": "387faf34-7900-44c2-a53b-887cdc51dd68",
   "metadata": {},
   "outputs": [
    {
     "data": {
      "text/plain": [
       "<seaborn.axisgrid.FacetGrid at 0x103627100>"
      ]
     },
     "execution_count": 15,
     "metadata": {},
     "output_type": "execute_result"
    },
    {
     "data": {
      "image/png": "[encoded data removed]",
      "text/plain": [
       "<Figure size 633.25x500 with 1 Axes>"
      ]
     },
     "metadata": {},
     "output_type": "display_data"
    }
   ],
   "source": [
    "sns.displot(data=data, x='amount', hue=target)"
   ]
  },
  {
   "cell_type": "code",
   "execution_count": 16,
   "id": "c6bc84b7-370b-42a4-8588-b14b11c1ecbe",
   "metadata": {},
   "outputs": [
    {
     "data": {
      "text/plain": [
       "status\n",
       "Chargeback    475\n",
       "Name: count, dtype: int64"
      ]
     },
     "execution_count": 16,
     "metadata": {},
     "output_type": "execute_result"
    }
   ],
   "source": [
    "data[data.amount>500].status.value_counts()"
   ]
  },
  {
   "cell_type": "markdown",
   "id": "71c7db0b-2617-4baa-ac1d-c775b6b6fd6a",
   "metadata": {},
   "source": [
    "**Observation**\n",
    "\n",
    "- majourity of refunded transactions have amounts between 0 - 180"
   ]
  },
  {
   "cell_type": "code",
   "execution_count": 17,
   "id": "3be29eb2-6201-4bd6-82e0-bc3c7fe78091",
   "metadata": {},
   "outputs": [
    {
     "data": {
      "text/plain": [
       "country\n",
       "USA          3854\n",
       "UK           2909\n",
       "Canada       1823\n",
       "Australia     914\n",
       "Name: count, dtype: int64"
      ]
     },
     "execution_count": 17,
     "metadata": {},
     "output_type": "execute_result"
    }
   ],
   "source": [
    "data.country.value_counts()"
   ]
  },
  {
   "cell_type": "code",
   "execution_count": 18,
   "id": "3778b175-cb8f-48a0-ac34-4009610d79ff",
   "metadata": {
    "scrolled": true
   },
   "outputs": [],
   "source": [
    "# convert to USD for each currency\n",
    "data.loc[:, 'exchange_rate'] = 1.0\n",
    "data.loc[data.country == 'Australia', 'exchange_rate'] = .65\n",
    "data.loc[data.country == 'Canada', 'exchange_rate'] = .73\n",
    "data.loc[data.country == 'UK', 'exchange_rate'] = 1.25"
   ]
  },
  {
   "cell_type": "code",
   "execution_count": 19,
   "id": "3564d585-c103-4662-bc97-ebedf0c43192",
   "metadata": {},
   "outputs": [],
   "source": [
    "data['total_usd'] = data['amount'] * data['exchange_rate']"
   ]
  },
  {
   "cell_type": "code",
   "execution_count": 20,
   "id": "8c1f1a20-8d99-453d-80ba-2818fafe68bf",
   "metadata": {},
   "outputs": [
    {
     "data": {
      "text/html": [
       "<div>\n",
       "<style scoped>\n",
       "    .dataframe tbody tr th:only-of-type {\n",
       "        vertical-align: middle;\n",
       "    }\n",
       "\n",
       "    .dataframe tbody tr th {\n",
       "        vertical-align: top;\n",
       "    }\n",
       "\n",
       "    .dataframe thead th {\n",
       "        text-align: right;\n",
       "    }\n",
       "</style>\n",
       "<table border=\"1\" class=\"dataframe\">\n",
       "  <thead>\n",
       "    <tr style=\"text-align: right;\">\n",
       "      <th></th>\n",
       "      <th>amount</th>\n",
       "      <th>exchange_rate</th>\n",
       "      <th>total_usd</th>\n",
       "    </tr>\n",
       "  </thead>\n",
       "  <tbody>\n",
       "    <tr>\n",
       "      <th>count</th>\n",
       "      <td>9500.000000</td>\n",
       "      <td>10000.000000</td>\n",
       "      <td>9500.000000</td>\n",
       "    </tr>\n",
       "    <tr>\n",
       "      <th>mean</th>\n",
       "      <td>242.164057</td>\n",
       "      <td>0.991514</td>\n",
       "      <td>240.401490</td>\n",
       "    </tr>\n",
       "    <tr>\n",
       "      <th>std</th>\n",
       "      <td>177.575880</td>\n",
       "      <td>0.206397</td>\n",
       "      <td>181.453242</td>\n",
       "    </tr>\n",
       "    <tr>\n",
       "      <th>min</th>\n",
       "      <td>8.410000</td>\n",
       "      <td>0.650000</td>\n",
       "      <td>6.241500</td>\n",
       "    </tr>\n",
       "    <tr>\n",
       "      <th>25%</th>\n",
       "      <td>114.367500</td>\n",
       "      <td>0.730000</td>\n",
       "      <td>106.141725</td>\n",
       "    </tr>\n",
       "    <tr>\n",
       "      <th>50%</th>\n",
       "      <td>207.790000</td>\n",
       "      <td>1.000000</td>\n",
       "      <td>205.015000</td>\n",
       "    </tr>\n",
       "    <tr>\n",
       "      <th>75%</th>\n",
       "      <td>323.015000</td>\n",
       "      <td>1.250000</td>\n",
       "      <td>331.852500</td>\n",
       "    </tr>\n",
       "    <tr>\n",
       "      <th>max</th>\n",
       "      <td>1473.990000</td>\n",
       "      <td>1.250000</td>\n",
       "      <td>1473.990000</td>\n",
       "    </tr>\n",
       "  </tbody>\n",
       "</table>\n",
       "</div>"
      ],
      "text/plain": [
       "            amount  exchange_rate    total_usd\n",
       "count  9500.000000   10000.000000  9500.000000\n",
       "mean    242.164057       0.991514   240.401490\n",
       "std     177.575880       0.206397   181.453242\n",
       "min       8.410000       0.650000     6.241500\n",
       "25%     114.367500       0.730000   106.141725\n",
       "50%     207.790000       1.000000   205.015000\n",
       "75%     323.015000       1.250000   331.852500\n",
       "max    1473.990000       1.250000  1473.990000"
      ]
     },
     "execution_count": 20,
     "metadata": {},
     "output_type": "execute_result"
    }
   ],
   "source": [
    "data.describe()"
   ]
  },
  {
   "cell_type": "code",
   "execution_count": 21,
   "id": "c875dc02-8f72-4430-a455-6d12877cad6b",
   "metadata": {},
   "outputs": [
    {
     "data": {
      "text/html": [
       "<div>\n",
       "<style scoped>\n",
       "    .dataframe tbody tr th:only-of-type {\n",
       "        vertical-align: middle;\n",
       "    }\n",
       "\n",
       "    .dataframe tbody tr th {\n",
       "        vertical-align: top;\n",
       "    }\n",
       "\n",
       "    .dataframe thead th {\n",
       "        text-align: right;\n",
       "    }\n",
       "</style>\n",
       "<table border=\"1\" class=\"dataframe\">\n",
       "  <thead>\n",
       "    <tr style=\"text-align: right;\">\n",
       "      <th></th>\n",
       "      <th>amount</th>\n",
       "      <th>exchange_rate</th>\n",
       "      <th>total_usd</th>\n",
       "      <th>country</th>\n",
       "    </tr>\n",
       "  </thead>\n",
       "  <tbody>\n",
       "    <tr>\n",
       "      <th>7177</th>\n",
       "      <td>43.99</td>\n",
       "      <td>0.73</td>\n",
       "      <td>32.1127</td>\n",
       "      <td>Canada</td>\n",
       "    </tr>\n",
       "    <tr>\n",
       "      <th>8133</th>\n",
       "      <td>259.86</td>\n",
       "      <td>1.00</td>\n",
       "      <td>259.8600</td>\n",
       "      <td>USA</td>\n",
       "    </tr>\n",
       "    <tr>\n",
       "      <th>9160</th>\n",
       "      <td>273.10</td>\n",
       "      <td>0.65</td>\n",
       "      <td>177.5150</td>\n",
       "      <td>Australia</td>\n",
       "    </tr>\n",
       "    <tr>\n",
       "      <th>3619</th>\n",
       "      <td>132.59</td>\n",
       "      <td>1.00</td>\n",
       "      <td>132.5900</td>\n",
       "      <td>USA</td>\n",
       "    </tr>\n",
       "    <tr>\n",
       "      <th>7242</th>\n",
       "      <td>440.57</td>\n",
       "      <td>1.00</td>\n",
       "      <td>440.5700</td>\n",
       "      <td>USA</td>\n",
       "    </tr>\n",
       "    <tr>\n",
       "      <th>8902</th>\n",
       "      <td>233.80</td>\n",
       "      <td>0.73</td>\n",
       "      <td>170.6740</td>\n",
       "      <td>Canada</td>\n",
       "    </tr>\n",
       "    <tr>\n",
       "      <th>1018</th>\n",
       "      <td>54.08</td>\n",
       "      <td>0.65</td>\n",
       "      <td>35.1520</td>\n",
       "      <td>Australia</td>\n",
       "    </tr>\n",
       "    <tr>\n",
       "      <th>5637</th>\n",
       "      <td>66.42</td>\n",
       "      <td>0.73</td>\n",
       "      <td>48.4866</td>\n",
       "      <td>Canada</td>\n",
       "    </tr>\n",
       "    <tr>\n",
       "      <th>776</th>\n",
       "      <td>410.48</td>\n",
       "      <td>1.00</td>\n",
       "      <td>410.4800</td>\n",
       "      <td>USA</td>\n",
       "    </tr>\n",
       "    <tr>\n",
       "      <th>9175</th>\n",
       "      <td>898.22</td>\n",
       "      <td>1.00</td>\n",
       "      <td>898.2200</td>\n",
       "      <td>USA</td>\n",
       "    </tr>\n",
       "  </tbody>\n",
       "</table>\n",
       "</div>"
      ],
      "text/plain": [
       "      amount  exchange_rate  total_usd    country\n",
       "7177   43.99           0.73    32.1127     Canada\n",
       "8133  259.86           1.00   259.8600        USA\n",
       "9160  273.10           0.65   177.5150  Australia\n",
       "3619  132.59           1.00   132.5900        USA\n",
       "7242  440.57           1.00   440.5700        USA\n",
       "8902  233.80           0.73   170.6740     Canada\n",
       "1018   54.08           0.65    35.1520  Australia\n",
       "5637   66.42           0.73    48.4866     Canada\n",
       "776   410.48           1.00   410.4800        USA\n",
       "9175  898.22           1.00   898.2200        USA"
      ]
     },
     "execution_count": 21,
     "metadata": {},
     "output_type": "execute_result"
    }
   ],
   "source": [
    "data[num_cols+['exchange_rate','total_usd','country']].sample(10)"
   ]
  },
  {
   "cell_type": "code",
   "execution_count": 22,
   "id": "f4ad78ee-7192-4df1-bf42-89ecb92ccb92",
   "metadata": {},
   "outputs": [
    {
     "data": {
      "text/plain": [
       "<seaborn.axisgrid.FacetGrid at 0x11c33de40>"
      ]
     },
     "execution_count": 22,
     "metadata": {},
     "output_type": "execute_result"
    },
    {
     "data": {
      "image/png": "[encoded data removed]",
      "text/plain": [
       "<Figure size 500x500 with 1 Axes>"
      ]
     },
     "metadata": {},
     "output_type": "display_data"
    }
   ],
   "source": [
    "sns.displot(data['total_usd'])"
   ]
  },
  {
   "cell_type": "code",
   "execution_count": 23,
   "id": "5a2cabe4-6578-441d-9368-8aac41296ff2",
   "metadata": {},
   "outputs": [
    {
     "data": {
      "text/plain": [
       "<seaborn.axisgrid.FacetGrid at 0x11c53f7f0>"
      ]
     },
     "execution_count": 23,
     "metadata": {},
     "output_type": "execute_result"
    },
    {
     "data": {
      "image/png": "[encoded data removed]",
      "text/plain": [
       "<Figure size 633.25x500 with 1 Axes>"
      ]
     },
     "metadata": {},
     "output_type": "display_data"
    }
   ],
   "source": [
    "sns.displot(data=data, x='total_usd', hue=target)"
   ]
  },
  {
   "cell_type": "code",
   "execution_count": 24,
   "id": "0b6dd460-11bd-4b49-9529-9f1d282a878d",
   "metadata": {},
   "outputs": [
    {
     "data": {
      "text/plain": [
       "['payment_type', 'country']"
      ]
     },
     "execution_count": 24,
     "metadata": {},
     "output_type": "execute_result"
    }
   ],
   "source": [
    "cat_cols"
   ]
  },
  {
   "cell_type": "code",
   "execution_count": 26,
   "id": "9938378c-52da-4c5b-886c-5ba0d04a0fc5",
   "metadata": {},
   "outputs": [
    {
     "data": {
      "text/plain": [
       "<seaborn.axisgrid.FacetGrid at 0x11cb1d300>"
      ]
     },
     "execution_count": 26,
     "metadata": {},
     "output_type": "execute_result"
    },
    {
     "data": {
      "image/png": "[encoded data removed]",
      "text/plain": [
       "<Figure size 629.125x500 with 1 Axes>"
      ]
     },
     "metadata": {},
     "output_type": "display_data"
    }
   ],
   "source": [
    "sns.displot(data=data, x='total_usd', hue='payment_type')"
   ]
  },
  {
   "cell_type": "code",
   "execution_count": 27,
   "id": "a95159eb-80d6-4554-9c1f-823057abfab7",
   "metadata": {},
   "outputs": [
    {
     "data": {
      "text/plain": [
       "<seaborn.axisgrid.FacetGrid at 0x11cdc8580>"
      ]
     },
     "execution_count": 27,
     "metadata": {},
     "output_type": "execute_result"
    },
    {
     "data": {
      "image/png": "[encoded data removed]",
      "text/plain": [
       "<Figure size 611.625x500 with 1 Axes>"
      ]
     },
     "metadata": {},
     "output_type": "display_data"
    }
   ],
   "source": [
    "sns.displot(data=data, x='total_usd', hue='country')"
   ]
  },
  {
   "cell_type": "code",
   "execution_count": 39,
   "id": "d0610204-a5eb-423e-9ed5-c08c6e0172b5",
   "metadata": {},
   "outputs": [
    {
     "data": {
      "text/plain": [
       "country\n",
       "USA          0.702020\n",
       "UK           0.241047\n",
       "Canada       0.044307\n",
       "Australia    0.012626\n",
       "Name: proportion, dtype: float64"
      ]
     },
     "execution_count": 39,
     "metadata": {},
     "output_type": "execute_result"
    }
   ],
   "source": [
    "data[(data.total_usd>210)].country.value_counts(normalize=True)"
   ]
  },
  {
   "cell_type": "markdown",
   "id": "10583952-a5b9-49c1-8a44-9209ad5d9495",
   "metadata": {},
   "source": [
    "- USA & UK make up 96% of transactions greater than 500"
   ]
  },
  {
   "cell_type": "code",
   "execution_count": 36,
   "id": "7206136a-e431-45e7-806b-12fb6e4ab938",
   "metadata": {},
   "outputs": [
    {
     "data": {
      "text/plain": [
       "<seaborn.axisgrid.FacetGrid at 0x1209dba90>"
      ]
     },
     "execution_count": 36,
     "metadata": {},
     "output_type": "execute_result"
    },
    {
     "data": {
      "image/png": "[encoded data removed]",
      "text/plain": [
       "<Figure size 511.111x500 with 1 Axes>"
      ]
     },
     "metadata": {},
     "output_type": "display_data"
    }
   ],
   "source": [
    "sns.catplot(data=data, x='payment_type', y='total_usd', kind='box')"
   ]
  },
  {
   "cell_type": "code",
   "execution_count": 37,
   "id": "0886d4f4-137e-462a-9f1a-9e37e77ac5fb",
   "metadata": {},
   "outputs": [
    {
     "data": {
      "text/plain": [
       "<seaborn.axisgrid.FacetGrid at 0x1204a0d00>"
      ]
     },
     "execution_count": 37,
     "metadata": {},
     "output_type": "execute_result"
    },
    {
     "data": {
      "image/png": "[encoded data removed]",
      "text/plain": [
       "<Figure size 511.111x500 with 1 Axes>"
      ]
     },
     "metadata": {},
     "output_type": "display_data"
    }
   ],
   "source": [
    "sns.catplot(data=data, x='country', y='total_usd', kind='box')"
   ]
  },
  {
   "cell_type": "markdown",
   "id": "c02c8ee5-a804-4b65-a4d8-1e3114e9d3b1",
   "metadata": {},
   "source": [
    "- USA and UK transaction make up 94% the top transactions by total_usd (>210)\n",
    "- Transactions above 600 total_usd are most likely USA transactions"
   ]
  },
  {
   "cell_type": "code",
   "execution_count": null,
   "id": "37c0adbf-1f87-48f4-aa8c-5ef13d46d0e6",
   "metadata": {},
   "outputs": [],
   "source": []
  },
  {
   "cell_type": "markdown",
   "id": "524f62a9-04b2-4c64-9fa8-60da07996481",
   "metadata": {},
   "source": [
    "### Check Status"
   ]
  },
  {
   "cell_type": "code",
   "execution_count": 40,
   "id": "52b380de-511f-4845-b4a9-96c4d84e4105",
   "metadata": {},
   "outputs": [
    {
     "data": {
      "text/plain": [
       "<Axes: xlabel='count', ylabel='status'>"
      ]
     },
     "execution_count": 40,
     "metadata": {},
     "output_type": "execute_result"
    },
    {
     "data": {
      "image/png": "[encoded data removed]",
      "text/plain": [
       "<Figure size 640x480 with 1 Axes>"
      ]
     },
     "metadata": {},
     "output_type": "display_data"
    }
   ],
   "source": [
    "sns.countplot(data=data, y=target)"
   ]
  },
  {
   "cell_type": "code",
   "execution_count": 41,
   "id": "787fc3cd-4406-4af3-b9ee-7d43352dc724",
   "metadata": {},
   "outputs": [
    {
     "data": {
      "text/plain": [
       "array(['Pending', 'Chargeback', 'Completed', 'Refunded', 'Cancelled'],\n",
       "      dtype=object)"
      ]
     },
     "execution_count": 41,
     "metadata": {},
     "output_type": "execute_result"
    }
   ],
   "source": [
    "data.status.unique()"
   ]
  },
  {
   "cell_type": "markdown",
   "id": "938c0c47-ec57-4fc7-8458-4103e8182a11",
   "metadata": {},
   "source": [
    "#### Refunded"
   ]
  },
  {
   "cell_type": "code",
   "execution_count": 42,
   "id": "211ec130-bfb3-4230-bcdb-d92df5ca2c6c",
   "metadata": {},
   "outputs": [
    {
     "data": {
      "text/plain": [
       "(2108, 12)"
      ]
     },
     "execution_count": 42,
     "metadata": {},
     "output_type": "execute_result"
    }
   ],
   "source": [
    "refunded = data[data.status=='Refunded']\n",
    "refunded.shape"
   ]
  },
  {
   "cell_type": "code",
   "execution_count": 43,
   "id": "b5d55a32-0e7e-468b-a546-139acdd11bcf",
   "metadata": {},
   "outputs": [
    {
     "data": {
      "text/html": [
       "<div>\n",
       "<style scoped>\n",
       "    .dataframe tbody tr th:only-of-type {\n",
       "        vertical-align: middle;\n",
       "    }\n",
       "\n",
       "    .dataframe tbody tr th {\n",
       "        vertical-align: top;\n",
       "    }\n",
       "\n",
       "    .dataframe thead th {\n",
       "        text-align: right;\n",
       "    }\n",
       "</style>\n",
       "<table border=\"1\" class=\"dataframe\">\n",
       "  <thead>\n",
       "    <tr style=\"text-align: right;\">\n",
       "      <th></th>\n",
       "      <th>transaction_id</th>\n",
       "      <th>date</th>\n",
       "      <th>time</th>\n",
       "      <th>customer_id</th>\n",
       "      <th>product_id</th>\n",
       "      <th>amount</th>\n",
       "      <th>payment_type</th>\n",
       "      <th>country</th>\n",
       "      <th>merchant_id</th>\n",
       "      <th>status</th>\n",
       "      <th>exchange_rate</th>\n",
       "      <th>total_usd</th>\n",
       "    </tr>\n",
       "  </thead>\n",
       "  <tbody>\n",
       "    <tr>\n",
       "      <th>9291</th>\n",
       "      <td>TX19291</td>\n",
       "      <td>2024-03-25</td>\n",
       "      <td>03:45:11</td>\n",
       "      <td>C3345</td>\n",
       "      <td>P2</td>\n",
       "      <td>135.22</td>\n",
       "      <td>Credit Card</td>\n",
       "      <td>UK</td>\n",
       "      <td>M42</td>\n",
       "      <td>Refunded</td>\n",
       "      <td>1.25</td>\n",
       "      <td>169.0250</td>\n",
       "    </tr>\n",
       "    <tr>\n",
       "      <th>6208</th>\n",
       "      <td>TX16208</td>\n",
       "      <td>2023-07-24</td>\n",
       "      <td>13:04:06</td>\n",
       "      <td>C4643</td>\n",
       "      <td>P49</td>\n",
       "      <td>15.37</td>\n",
       "      <td>Credit Card</td>\n",
       "      <td>UK</td>\n",
       "      <td>M37</td>\n",
       "      <td>Refunded</td>\n",
       "      <td>1.25</td>\n",
       "      <td>19.2125</td>\n",
       "    </tr>\n",
       "    <tr>\n",
       "      <th>4105</th>\n",
       "      <td>TX14105</td>\n",
       "      <td>2024-02-19</td>\n",
       "      <td>14:05:46</td>\n",
       "      <td>C7557</td>\n",
       "      <td>P15</td>\n",
       "      <td>29.95</td>\n",
       "      <td>Debit Card</td>\n",
       "      <td>UK</td>\n",
       "      <td>M3</td>\n",
       "      <td>Refunded</td>\n",
       "      <td>1.25</td>\n",
       "      <td>37.4375</td>\n",
       "    </tr>\n",
       "    <tr>\n",
       "      <th>4340</th>\n",
       "      <td>TX14340</td>\n",
       "      <td>2023-07-26</td>\n",
       "      <td>01:45:51</td>\n",
       "      <td>C1399</td>\n",
       "      <td>P72</td>\n",
       "      <td>57.97</td>\n",
       "      <td>Debit Card</td>\n",
       "      <td>UK</td>\n",
       "      <td>M9</td>\n",
       "      <td>Refunded</td>\n",
       "      <td>1.25</td>\n",
       "      <td>72.4625</td>\n",
       "    </tr>\n",
       "    <tr>\n",
       "      <th>5835</th>\n",
       "      <td>TX15835</td>\n",
       "      <td>2024-02-12</td>\n",
       "      <td>21:47:30</td>\n",
       "      <td>C8523</td>\n",
       "      <td>P100</td>\n",
       "      <td>13.75</td>\n",
       "      <td>Credit Card</td>\n",
       "      <td>UK</td>\n",
       "      <td>M13</td>\n",
       "      <td>Refunded</td>\n",
       "      <td>1.25</td>\n",
       "      <td>17.1875</td>\n",
       "    </tr>\n",
       "  </tbody>\n",
       "</table>\n",
       "</div>"
      ],
      "text/plain": [
       "     transaction_id        date      time customer_id product_id  amount  \\\n",
       "9291        TX19291  2024-03-25  03:45:11       C3345         P2  135.22   \n",
       "6208        TX16208  2023-07-24  13:04:06       C4643        P49   15.37   \n",
       "4105        TX14105  2024-02-19  14:05:46       C7557        P15   29.95   \n",
       "4340        TX14340  2023-07-26  01:45:51       C1399        P72   57.97   \n",
       "5835        TX15835  2024-02-12  21:47:30       C8523       P100   13.75   \n",
       "\n",
       "     payment_type country merchant_id    status  exchange_rate  total_usd  \n",
       "9291  Credit Card      UK         M42  Refunded           1.25   169.0250  \n",
       "6208  Credit Card      UK         M37  Refunded           1.25    19.2125  \n",
       "4105   Debit Card      UK          M3  Refunded           1.25    37.4375  \n",
       "4340   Debit Card      UK          M9  Refunded           1.25    72.4625  \n",
       "5835  Credit Card      UK         M13  Refunded           1.25    17.1875  "
      ]
     },
     "execution_count": 43,
     "metadata": {},
     "output_type": "execute_result"
    }
   ],
   "source": [
    "refunded.sample(5)"
   ]
  },
  {
   "cell_type": "code",
   "execution_count": 44,
   "id": "b17a5f24-de21-4553-b0ae-2e468e5d3ad8",
   "metadata": {},
   "outputs": [
    {
     "data": {
      "text/plain": [
       "<seaborn.axisgrid.FacetGrid at 0x11f6dc490>"
      ]
     },
     "execution_count": 44,
     "metadata": {},
     "output_type": "execute_result"
    },
    {
     "data": {
      "image/png": "[encoded data removed]",
      "text/plain": [
       "<Figure size 611.625x500 with 1 Axes>"
      ]
     },
     "metadata": {},
     "output_type": "display_data"
    }
   ],
   "source": [
    "sns.displot(data=refunded, x='total_usd', hue='country')"
   ]
  },
  {
   "cell_type": "code",
   "execution_count": 45,
   "id": "a4a8c502-8518-4adf-b373-41b5f76107a7",
   "metadata": {},
   "outputs": [
    {
     "data": {
      "text/plain": [
       "<seaborn.axisgrid.FacetGrid at 0x11d943a90>"
      ]
     },
     "execution_count": 45,
     "metadata": {},
     "output_type": "execute_result"
    },
    {
     "data": {
      "image/png": "[encoded data removed]",
      "text/plain": [
       "<Figure size 629.125x500 with 1 Axes>"
      ]
     },
     "metadata": {},
     "output_type": "display_data"
    }
   ],
   "source": [
    "sns.displot(data=refunded, x='total_usd', hue='payment_type')"
   ]
  },
  {
   "cell_type": "code",
   "execution_count": 46,
   "id": "9a5392ad-f07a-44fd-9a6e-fb5cd96a83a9",
   "metadata": {},
   "outputs": [
    {
     "data": {
      "text/plain": [
       "payment_type\n",
       "Debit Card     0.510926\n",
       "Credit Card    0.344953\n",
       "PayPal         0.144121\n",
       "Name: proportion, dtype: float64"
      ]
     },
     "execution_count": 46,
     "metadata": {},
     "output_type": "execute_result"
    }
   ],
   "source": [
    "refunded.payment_type.value_counts(normalize=True)"
   ]
  },
  {
   "cell_type": "code",
   "execution_count": 47,
   "id": "3eb68b50-3de8-4c07-9a49-bf778013c2a5",
   "metadata": {},
   "outputs": [
    {
     "data": {
      "text/plain": [
       "country\n",
       "USA    0.878049\n",
       "UK     0.121951\n",
       "Name: proportion, dtype: float64"
      ]
     },
     "execution_count": 47,
     "metadata": {},
     "output_type": "execute_result"
    }
   ],
   "source": [
    "refunded[(refunded.total_usd>0)&(refunded.total_usd>210)].country.value_counts(normalize=True)"
   ]
  },
  {
   "cell_type": "markdown",
   "id": "c214099e-1ded-4bf5-a720-75ed74020b17",
   "metadata": {},
   "source": [
    "**Observation**\n",
    "\n",
    "- USA make up almost 90% of refunded transactions between 0-210 total_usd\n",
    "- Debit card transactions make ~50% of refunded transactions"
   ]
  },
  {
   "cell_type": "code",
   "execution_count": null,
   "id": "dba92dd0-4a1d-49bc-978f-c3245761e1aa",
   "metadata": {},
   "outputs": [],
   "source": []
  },
  {
   "cell_type": "markdown",
   "id": "2bea78d4-7b4f-4594-89ce-dcc009641ce9",
   "metadata": {},
   "source": [
    "#### Chargeback"
   ]
  },
  {
   "cell_type": "code",
   "execution_count": 48,
   "id": "ce6e17eb-19e1-4bea-9fc4-89bf88a874e2",
   "metadata": {},
   "outputs": [
    {
     "data": {
      "text/plain": [
       "(1475, 12)"
      ]
     },
     "execution_count": 48,
     "metadata": {},
     "output_type": "execute_result"
    }
   ],
   "source": [
    "charge_back = data[data.status=='Chargeback']\n",
    "charge_back.shape"
   ]
  },
  {
   "cell_type": "code",
   "execution_count": 49,
   "id": "7c9a04d3-b0a3-4d77-967a-9a627e7ea6cd",
   "metadata": {},
   "outputs": [
    {
     "data": {
      "text/html": [
       "<div>\n",
       "<style scoped>\n",
       "    .dataframe tbody tr th:only-of-type {\n",
       "        vertical-align: middle;\n",
       "    }\n",
       "\n",
       "    .dataframe tbody tr th {\n",
       "        vertical-align: top;\n",
       "    }\n",
       "\n",
       "    .dataframe thead th {\n",
       "        text-align: right;\n",
       "    }\n",
       "</style>\n",
       "<table border=\"1\" class=\"dataframe\">\n",
       "  <thead>\n",
       "    <tr style=\"text-align: right;\">\n",
       "      <th></th>\n",
       "      <th>transaction_id</th>\n",
       "      <th>date</th>\n",
       "      <th>time</th>\n",
       "      <th>customer_id</th>\n",
       "      <th>product_id</th>\n",
       "      <th>amount</th>\n",
       "      <th>payment_type</th>\n",
       "      <th>country</th>\n",
       "      <th>merchant_id</th>\n",
       "      <th>status</th>\n",
       "      <th>exchange_rate</th>\n",
       "      <th>total_usd</th>\n",
       "    </tr>\n",
       "  </thead>\n",
       "  <tbody>\n",
       "    <tr>\n",
       "      <th>7091</th>\n",
       "      <td>TX17091</td>\n",
       "      <td>2023-06-17</td>\n",
       "      <td>20:15:31</td>\n",
       "      <td>C5984</td>\n",
       "      <td>P76</td>\n",
       "      <td>510.64</td>\n",
       "      <td>Debit Card</td>\n",
       "      <td>Australia</td>\n",
       "      <td>M18</td>\n",
       "      <td>Chargeback</td>\n",
       "      <td>0.65</td>\n",
       "      <td>331.9160</td>\n",
       "    </tr>\n",
       "    <tr>\n",
       "      <th>6126</th>\n",
       "      <td>TX16126</td>\n",
       "      <td>2023-05-19</td>\n",
       "      <td>17:39:14</td>\n",
       "      <td>C1946</td>\n",
       "      <td>P4</td>\n",
       "      <td>88.82</td>\n",
       "      <td>Credit Card</td>\n",
       "      <td>UK</td>\n",
       "      <td>M17</td>\n",
       "      <td>Chargeback</td>\n",
       "      <td>1.25</td>\n",
       "      <td>111.0250</td>\n",
       "    </tr>\n",
       "    <tr>\n",
       "      <th>4289</th>\n",
       "      <td>TX14289</td>\n",
       "      <td>2023-08-25</td>\n",
       "      <td>05:08:05</td>\n",
       "      <td>C2452</td>\n",
       "      <td>P98</td>\n",
       "      <td>163.05</td>\n",
       "      <td>Debit Card</td>\n",
       "      <td>Canada</td>\n",
       "      <td>M32</td>\n",
       "      <td>Chargeback</td>\n",
       "      <td>0.73</td>\n",
       "      <td>119.0265</td>\n",
       "    </tr>\n",
       "    <tr>\n",
       "      <th>3953</th>\n",
       "      <td>TX13953</td>\n",
       "      <td>2023-10-16</td>\n",
       "      <td>20:44:44</td>\n",
       "      <td>C7298</td>\n",
       "      <td>P64</td>\n",
       "      <td>596.80</td>\n",
       "      <td>Credit Card</td>\n",
       "      <td>USA</td>\n",
       "      <td>M11</td>\n",
       "      <td>Chargeback</td>\n",
       "      <td>1.00</td>\n",
       "      <td>596.8000</td>\n",
       "    </tr>\n",
       "    <tr>\n",
       "      <th>7907</th>\n",
       "      <td>TX17907</td>\n",
       "      <td>2023-05-22</td>\n",
       "      <td>15:45:06</td>\n",
       "      <td>C5004</td>\n",
       "      <td>P10</td>\n",
       "      <td>355.05</td>\n",
       "      <td>NaN</td>\n",
       "      <td>NaN</td>\n",
       "      <td>M37</td>\n",
       "      <td>Chargeback</td>\n",
       "      <td>1.00</td>\n",
       "      <td>355.0500</td>\n",
       "    </tr>\n",
       "  </tbody>\n",
       "</table>\n",
       "</div>"
      ],
      "text/plain": [
       "     transaction_id        date      time customer_id product_id  amount  \\\n",
       "7091        TX17091  2023-06-17  20:15:31       C5984        P76  510.64   \n",
       "6126        TX16126  2023-05-19  17:39:14       C1946         P4   88.82   \n",
       "4289        TX14289  2023-08-25  05:08:05       C2452        P98  163.05   \n",
       "3953        TX13953  2023-10-16  20:44:44       C7298        P64  596.80   \n",
       "7907        TX17907  2023-05-22  15:45:06       C5004        P10  355.05   \n",
       "\n",
       "     payment_type    country merchant_id      status  exchange_rate  total_usd  \n",
       "7091   Debit Card  Australia         M18  Chargeback           0.65   331.9160  \n",
       "6126  Credit Card         UK         M17  Chargeback           1.25   111.0250  \n",
       "4289   Debit Card     Canada         M32  Chargeback           0.73   119.0265  \n",
       "3953  Credit Card        USA         M11  Chargeback           1.00   596.8000  \n",
       "7907          NaN        NaN         M37  Chargeback           1.00   355.0500  "
      ]
     },
     "execution_count": 49,
     "metadata": {},
     "output_type": "execute_result"
    }
   ],
   "source": [
    "charge_back.sample(5)"
   ]
  },
  {
   "cell_type": "code",
   "execution_count": 50,
   "id": "769f3ccd-455b-40f0-bdb2-e895151abd55",
   "metadata": {},
   "outputs": [
    {
     "data": {
      "text/plain": [
       "<seaborn.axisgrid.FacetGrid at 0x11f6ddb40>"
      ]
     },
     "execution_count": 50,
     "metadata": {},
     "output_type": "execute_result"
    },
    {
     "data": {
      "image/png": "[encoded data removed]",
      "text/plain": [
       "<Figure size 611.625x500 with 1 Axes>"
      ]
     },
     "metadata": {},
     "output_type": "display_data"
    }
   ],
   "source": [
    "sns.displot(data=charge_back, x='total_usd', hue='country')"
   ]
  },
  {
   "cell_type": "code",
   "execution_count": 51,
   "id": "497d17d8-8699-4bcf-aed4-94dcd9a6c3f0",
   "metadata": {},
   "outputs": [
    {
     "data": {
      "text/plain": [
       "<seaborn.axisgrid.FacetGrid at 0x120bfabc0>"
      ]
     },
     "execution_count": 51,
     "metadata": {},
     "output_type": "execute_result"
    },
    {
     "data": {
      "image/png": "[encoded data removed]",
      "text/plain": [
       "<Figure size 629.125x500 with 1 Axes>"
      ]
     },
     "metadata": {},
     "output_type": "display_data"
    }
   ],
   "source": [
    "sns.displot(data=charge_back, x='total_usd', hue='payment_type')"
   ]
  },
  {
   "cell_type": "code",
   "execution_count": 54,
   "id": "1b462e77-e792-4f6b-90e2-65152648dfe1",
   "metadata": {},
   "outputs": [
    {
     "data": {
      "text/plain": [
       "payment_type\n",
       "Credit Card    0.502242\n",
       "Debit Card     0.343049\n",
       "PayPal         0.154709\n",
       "Name: proportion, dtype: float64"
      ]
     },
     "execution_count": 54,
     "metadata": {},
     "output_type": "execute_result"
    }
   ],
   "source": [
    "charge_back.payment_type.value_counts(normalize=True)"
   ]
  },
  {
   "cell_type": "code",
   "execution_count": 43,
   "id": "c903a7a9-8ce6-4048-80ed-23c7961f8179",
   "metadata": {},
   "outputs": [],
   "source": [
    "# sns.lineplot(data=charge_back.sort_values(['date','time']), x='date', y='total_usd')"
   ]
  },
  {
   "cell_type": "markdown",
   "id": "282e3f9d-a37d-406b-8187-cc46621a3a3b",
   "metadata": {},
   "source": [
    "- Credit card make up 50% of charge_back transactions.\n",
    "- USA make up 70% of chargeback transactions greater than 400 total_usd"
   ]
  },
  {
   "cell_type": "markdown",
   "id": "a963b833-8f77-485e-844a-4c149c60158d",
   "metadata": {},
   "source": [
    "#### Cancelled"
   ]
  },
  {
   "cell_type": "code",
   "execution_count": 55,
   "id": "6f1f3fe5-10f6-4019-8434-752ff5646c08",
   "metadata": {},
   "outputs": [
    {
     "data": {
      "text/plain": [
       "(1651, 12)"
      ]
     },
     "execution_count": 55,
     "metadata": {},
     "output_type": "execute_result"
    }
   ],
   "source": [
    "cancelled = data[data.status=='Cancelled']\n",
    "cancelled.shape"
   ]
  },
  {
   "cell_type": "code",
   "execution_count": 56,
   "id": "245afa8e-821f-4ded-ac1f-3c74bc5fff93",
   "metadata": {},
   "outputs": [
    {
     "data": {
      "text/html": [
       "<div>\n",
       "<style scoped>\n",
       "    .dataframe tbody tr th:only-of-type {\n",
       "        vertical-align: middle;\n",
       "    }\n",
       "\n",
       "    .dataframe tbody tr th {\n",
       "        vertical-align: top;\n",
       "    }\n",
       "\n",
       "    .dataframe thead th {\n",
       "        text-align: right;\n",
       "    }\n",
       "</style>\n",
       "<table border=\"1\" class=\"dataframe\">\n",
       "  <thead>\n",
       "    <tr style=\"text-align: right;\">\n",
       "      <th></th>\n",
       "      <th>transaction_id</th>\n",
       "      <th>date</th>\n",
       "      <th>time</th>\n",
       "      <th>customer_id</th>\n",
       "      <th>product_id</th>\n",
       "      <th>amount</th>\n",
       "      <th>payment_type</th>\n",
       "      <th>country</th>\n",
       "      <th>merchant_id</th>\n",
       "      <th>status</th>\n",
       "      <th>exchange_rate</th>\n",
       "      <th>total_usd</th>\n",
       "    </tr>\n",
       "  </thead>\n",
       "  <tbody>\n",
       "    <tr>\n",
       "      <th>3585</th>\n",
       "      <td>TX13585</td>\n",
       "      <td>2024-04-20</td>\n",
       "      <td>21:57:20</td>\n",
       "      <td>C4183</td>\n",
       "      <td>P83</td>\n",
       "      <td>459.08</td>\n",
       "      <td>Credit Card</td>\n",
       "      <td>USA</td>\n",
       "      <td>M32</td>\n",
       "      <td>Cancelled</td>\n",
       "      <td>1.00</td>\n",
       "      <td>459.0800</td>\n",
       "    </tr>\n",
       "    <tr>\n",
       "      <th>67</th>\n",
       "      <td>TX10067</td>\n",
       "      <td>2023-08-12</td>\n",
       "      <td>01:44:32</td>\n",
       "      <td>C3451</td>\n",
       "      <td>P29</td>\n",
       "      <td>120.01</td>\n",
       "      <td>Credit Card</td>\n",
       "      <td>Canada</td>\n",
       "      <td>M43</td>\n",
       "      <td>Cancelled</td>\n",
       "      <td>0.73</td>\n",
       "      <td>87.6073</td>\n",
       "    </tr>\n",
       "    <tr>\n",
       "      <th>7359</th>\n",
       "      <td>TX17359</td>\n",
       "      <td>2024-02-17</td>\n",
       "      <td>19:38:16</td>\n",
       "      <td>C7290</td>\n",
       "      <td>P74</td>\n",
       "      <td>79.15</td>\n",
       "      <td>Credit Card</td>\n",
       "      <td>Canada</td>\n",
       "      <td>M31</td>\n",
       "      <td>Cancelled</td>\n",
       "      <td>0.73</td>\n",
       "      <td>57.7795</td>\n",
       "    </tr>\n",
       "    <tr>\n",
       "      <th>5559</th>\n",
       "      <td>TX15559</td>\n",
       "      <td>2023-09-03</td>\n",
       "      <td>01:42:36</td>\n",
       "      <td>C3385</td>\n",
       "      <td>P31</td>\n",
       "      <td>107.51</td>\n",
       "      <td>NaN</td>\n",
       "      <td>UK</td>\n",
       "      <td>M33</td>\n",
       "      <td>Cancelled</td>\n",
       "      <td>1.25</td>\n",
       "      <td>134.3875</td>\n",
       "    </tr>\n",
       "    <tr>\n",
       "      <th>699</th>\n",
       "      <td>TX10699</td>\n",
       "      <td>2023-08-28</td>\n",
       "      <td>07:21:16</td>\n",
       "      <td>C1005</td>\n",
       "      <td>P82</td>\n",
       "      <td>196.37</td>\n",
       "      <td>NaN</td>\n",
       "      <td>UK</td>\n",
       "      <td>M6</td>\n",
       "      <td>Cancelled</td>\n",
       "      <td>1.25</td>\n",
       "      <td>245.4625</td>\n",
       "    </tr>\n",
       "  </tbody>\n",
       "</table>\n",
       "</div>"
      ],
      "text/plain": [
       "     transaction_id        date      time customer_id product_id  amount  \\\n",
       "3585        TX13585  2024-04-20  21:57:20       C4183        P83  459.08   \n",
       "67          TX10067  2023-08-12  01:44:32       C3451        P29  120.01   \n",
       "7359        TX17359  2024-02-17  19:38:16       C7290        P74   79.15   \n",
       "5559        TX15559  2023-09-03  01:42:36       C3385        P31  107.51   \n",
       "699         TX10699  2023-08-28  07:21:16       C1005        P82  196.37   \n",
       "\n",
       "     payment_type country merchant_id     status  exchange_rate  total_usd  \n",
       "3585  Credit Card     USA         M32  Cancelled           1.00   459.0800  \n",
       "67    Credit Card  Canada         M43  Cancelled           0.73    87.6073  \n",
       "7359  Credit Card  Canada         M31  Cancelled           0.73    57.7795  \n",
       "5559          NaN      UK         M33  Cancelled           1.25   134.3875  \n",
       "699           NaN      UK          M6  Cancelled           1.25   245.4625  "
      ]
     },
     "execution_count": 56,
     "metadata": {},
     "output_type": "execute_result"
    }
   ],
   "source": [
    "cancelled.sample(5)"
   ]
  },
  {
   "cell_type": "code",
   "execution_count": 57,
   "id": "60f92a58-731c-4684-93d4-71308b287002",
   "metadata": {},
   "outputs": [
    {
     "data": {
      "text/plain": [
       "<seaborn.axisgrid.FacetGrid at 0x120cd4ca0>"
      ]
     },
     "execution_count": 57,
     "metadata": {},
     "output_type": "execute_result"
    },
    {
     "data": {
      "image/png": "[encoded data removed]",
      "text/plain": [
       "<Figure size 629.125x500 with 1 Axes>"
      ]
     },
     "metadata": {},
     "output_type": "display_data"
    }
   ],
   "source": [
    "sns.displot(data=cancelled, x='total_usd', hue='payment_type')"
   ]
  },
  {
   "cell_type": "code",
   "execution_count": 58,
   "id": "3494387a-27fb-494f-b63d-f3a720153f85",
   "metadata": {},
   "outputs": [
    {
     "data": {
      "text/plain": [
       "<seaborn.axisgrid.FacetGrid at 0x1211d3be0>"
      ]
     },
     "execution_count": 58,
     "metadata": {},
     "output_type": "execute_result"
    },
    {
     "data": {
      "image/png": "[encoded data removed]",
      "text/plain": [
       "<Figure size 611.625x500 with 1 Axes>"
      ]
     },
     "metadata": {},
     "output_type": "display_data"
    }
   ],
   "source": [
    "sns.displot(data=cancelled, x='total_usd', hue='country')"
   ]
  },
  {
   "cell_type": "code",
   "execution_count": 59,
   "id": "12b6dc66-a184-47df-b4ff-b536c5bfb457",
   "metadata": {},
   "outputs": [
    {
     "data": {
      "text/plain": [
       "country\n",
       "UK           0.365141\n",
       "Canada       0.286271\n",
       "USA          0.211295\n",
       "Australia    0.137293\n",
       "Name: proportion, dtype: float64"
      ]
     },
     "execution_count": 59,
     "metadata": {},
     "output_type": "execute_result"
    }
   ],
   "source": [
    "cancelled[(cancelled.total_usd>0)&(cancelled.total_usd<300)].country.value_counts(normalize=True)"
   ]
  },
  {
   "cell_type": "code",
   "execution_count": 60,
   "id": "62ccb1cd-0eeb-4451-be08-8e66459f9296",
   "metadata": {},
   "outputs": [],
   "source": [
    "# sns.lineplot(data=cancelled.sort_values(['date','time']), x='date', y='total_usd')"
   ]
  },
  {
   "cell_type": "code",
   "execution_count": null,
   "id": "d960d8ce-f344-4498-b724-556c7dc8c393",
   "metadata": {},
   "outputs": [],
   "source": []
  },
  {
   "cell_type": "markdown",
   "id": "f904a3e2-6081-48c3-8078-a056dc8690f8",
   "metadata": {},
   "source": [
    "### Check Product_ID"
   ]
  },
  {
   "cell_type": "code",
   "execution_count": 61,
   "id": "422e4609-5ece-41d4-8360-2e3e4a75e59c",
   "metadata": {},
   "outputs": [
    {
     "data": {
      "text/plain": [
       "product_id\n",
       "P24     133\n",
       "P6      128\n",
       "P53     122\n",
       "P21     120\n",
       "P85     119\n",
       "P23     119\n",
       "P82     118\n",
       "P100    118\n",
       "P11     116\n",
       "P5      114\n",
       "P22     113\n",
       "P90     112\n",
       "P4      112\n",
       "P93     111\n",
       "P67     110\n",
       "P83     110\n",
       "P88     109\n",
       "P12     109\n",
       "P7      108\n",
       "P30     108\n",
       "Name: count, dtype: int64"
      ]
     },
     "execution_count": 61,
     "metadata": {},
     "output_type": "execute_result"
    }
   ],
   "source": [
    "data['product_id'].value_counts().sort_values(ascending=False).head(20)"
   ]
  },
  {
   "cell_type": "code",
   "execution_count": 62,
   "id": "0fc4db3c-33e0-4ebf-aa3d-890718436026",
   "metadata": {},
   "outputs": [
    {
     "data": {
      "text/plain": [
       "<Axes: xlabel='count', ylabel='product_id'>"
      ]
     },
     "execution_count": 62,
     "metadata": {},
     "output_type": "execute_result"
    },
    {
     "data": {
      "image/png": "[encoded data removed]",
      "text/plain": [
       "<Figure size 1200x800 with 1 Axes>"
      ]
     },
     "metadata": {},
     "output_type": "display_data"
    }
   ],
   "source": [
    "# top 20 products\n",
    "plt.figure(figsize=(12,8))\n",
    "sns.countplot(data=data[data.product_id.isin(data['product_id'].value_counts().sort_values(ascending=False).head(20).index.tolist())], y='product_id', hue='status')"
   ]
  },
  {
   "cell_type": "code",
   "execution_count": 63,
   "id": "aa8369c4-0e6a-41ac-a307-184c1ab5d5bf",
   "metadata": {},
   "outputs": [
    {
     "data": {
      "text/plain": [
       "<Axes: xlabel='count', ylabel='product_id'>"
      ]
     },
     "execution_count": 63,
     "metadata": {},
     "output_type": "execute_result"
    },
    {
     "data": {
      "image/png": "[encoded data removed]",
      "text/plain": [
       "<Figure size 1200x800 with 1 Axes>"
      ]
     },
     "metadata": {},
     "output_type": "display_data"
    }
   ],
   "source": [
    "# bottom 20 products\n",
    "plt.figure(figsize=(12,8))\n",
    "sns.countplot(data=data[data.product_id.isin(data['product_id'].value_counts().sort_values(ascending=False).tail(20).index.tolist())], y='product_id')"
   ]
  },
  {
   "cell_type": "code",
   "execution_count": 68,
   "id": "5eae9799-195c-4cb3-8d6f-2f9b4a323752",
   "metadata": {},
   "outputs": [
    {
     "data": {
      "text/html": [
       "<div>\n",
       "<style scoped>\n",
       "    .dataframe tbody tr th:only-of-type {\n",
       "        vertical-align: middle;\n",
       "    }\n",
       "\n",
       "    .dataframe tbody tr th {\n",
       "        vertical-align: top;\n",
       "    }\n",
       "\n",
       "    .dataframe thead th {\n",
       "        text-align: right;\n",
       "    }\n",
       "</style>\n",
       "<table border=\"1\" class=\"dataframe\">\n",
       "  <thead>\n",
       "    <tr style=\"text-align: right;\">\n",
       "      <th>status</th>\n",
       "      <th>product_id</th>\n",
       "      <th>Cancelled</th>\n",
       "      <th>Chargeback</th>\n",
       "      <th>Completed</th>\n",
       "      <th>Pending</th>\n",
       "      <th>Refunded</th>\n",
       "    </tr>\n",
       "  </thead>\n",
       "  <tbody>\n",
       "    <tr>\n",
       "      <th>0</th>\n",
       "      <td>P21</td>\n",
       "      <td>18</td>\n",
       "      <td>15</td>\n",
       "      <td>26</td>\n",
       "      <td>25</td>\n",
       "      <td>36</td>\n",
       "    </tr>\n",
       "    <tr>\n",
       "      <th>1</th>\n",
       "      <td>P6</td>\n",
       "      <td>22</td>\n",
       "      <td>17</td>\n",
       "      <td>31</td>\n",
       "      <td>24</td>\n",
       "      <td>34</td>\n",
       "    </tr>\n",
       "    <tr>\n",
       "      <th>2</th>\n",
       "      <td>P4</td>\n",
       "      <td>18</td>\n",
       "      <td>11</td>\n",
       "      <td>22</td>\n",
       "      <td>28</td>\n",
       "      <td>33</td>\n",
       "    </tr>\n",
       "    <tr>\n",
       "      <th>3</th>\n",
       "      <td>P12</td>\n",
       "      <td>17</td>\n",
       "      <td>17</td>\n",
       "      <td>25</td>\n",
       "      <td>24</td>\n",
       "      <td>26</td>\n",
       "    </tr>\n",
       "    <tr>\n",
       "      <th>4</th>\n",
       "      <td>P67</td>\n",
       "      <td>12</td>\n",
       "      <td>18</td>\n",
       "      <td>26</td>\n",
       "      <td>29</td>\n",
       "      <td>25</td>\n",
       "    </tr>\n",
       "    <tr>\n",
       "      <th>5</th>\n",
       "      <td>P53</td>\n",
       "      <td>21</td>\n",
       "      <td>28</td>\n",
       "      <td>28</td>\n",
       "      <td>21</td>\n",
       "      <td>24</td>\n",
       "    </tr>\n",
       "    <tr>\n",
       "      <th>6</th>\n",
       "      <td>P7</td>\n",
       "      <td>18</td>\n",
       "      <td>15</td>\n",
       "      <td>25</td>\n",
       "      <td>26</td>\n",
       "      <td>24</td>\n",
       "    </tr>\n",
       "    <tr>\n",
       "      <th>7</th>\n",
       "      <td>P93</td>\n",
       "      <td>22</td>\n",
       "      <td>15</td>\n",
       "      <td>31</td>\n",
       "      <td>20</td>\n",
       "      <td>23</td>\n",
       "    </tr>\n",
       "    <tr>\n",
       "      <th>8</th>\n",
       "      <td>P83</td>\n",
       "      <td>12</td>\n",
       "      <td>16</td>\n",
       "      <td>33</td>\n",
       "      <td>27</td>\n",
       "      <td>22</td>\n",
       "    </tr>\n",
       "    <tr>\n",
       "      <th>9</th>\n",
       "      <td>P85</td>\n",
       "      <td>17</td>\n",
       "      <td>23</td>\n",
       "      <td>35</td>\n",
       "      <td>22</td>\n",
       "      <td>22</td>\n",
       "    </tr>\n",
       "    <tr>\n",
       "      <th>10</th>\n",
       "      <td>P88</td>\n",
       "      <td>16</td>\n",
       "      <td>15</td>\n",
       "      <td>21</td>\n",
       "      <td>35</td>\n",
       "      <td>22</td>\n",
       "    </tr>\n",
       "    <tr>\n",
       "      <th>11</th>\n",
       "      <td>P100</td>\n",
       "      <td>16</td>\n",
       "      <td>24</td>\n",
       "      <td>29</td>\n",
       "      <td>27</td>\n",
       "      <td>22</td>\n",
       "    </tr>\n",
       "    <tr>\n",
       "      <th>12</th>\n",
       "      <td>P11</td>\n",
       "      <td>23</td>\n",
       "      <td>15</td>\n",
       "      <td>28</td>\n",
       "      <td>29</td>\n",
       "      <td>21</td>\n",
       "    </tr>\n",
       "    <tr>\n",
       "      <th>13</th>\n",
       "      <td>P22</td>\n",
       "      <td>22</td>\n",
       "      <td>18</td>\n",
       "      <td>26</td>\n",
       "      <td>26</td>\n",
       "      <td>21</td>\n",
       "    </tr>\n",
       "    <tr>\n",
       "      <th>14</th>\n",
       "      <td>P90</td>\n",
       "      <td>26</td>\n",
       "      <td>16</td>\n",
       "      <td>29</td>\n",
       "      <td>20</td>\n",
       "      <td>21</td>\n",
       "    </tr>\n",
       "    <tr>\n",
       "      <th>15</th>\n",
       "      <td>P5</td>\n",
       "      <td>21</td>\n",
       "      <td>16</td>\n",
       "      <td>32</td>\n",
       "      <td>27</td>\n",
       "      <td>18</td>\n",
       "    </tr>\n",
       "    <tr>\n",
       "      <th>16</th>\n",
       "      <td>P24</td>\n",
       "      <td>22</td>\n",
       "      <td>17</td>\n",
       "      <td>47</td>\n",
       "      <td>29</td>\n",
       "      <td>18</td>\n",
       "    </tr>\n",
       "    <tr>\n",
       "      <th>17</th>\n",
       "      <td>P82</td>\n",
       "      <td>22</td>\n",
       "      <td>20</td>\n",
       "      <td>32</td>\n",
       "      <td>26</td>\n",
       "      <td>18</td>\n",
       "    </tr>\n",
       "    <tr>\n",
       "      <th>18</th>\n",
       "      <td>P23</td>\n",
       "      <td>16</td>\n",
       "      <td>22</td>\n",
       "      <td>31</td>\n",
       "      <td>33</td>\n",
       "      <td>17</td>\n",
       "    </tr>\n",
       "    <tr>\n",
       "      <th>19</th>\n",
       "      <td>P30</td>\n",
       "      <td>24</td>\n",
       "      <td>17</td>\n",
       "      <td>30</td>\n",
       "      <td>21</td>\n",
       "      <td>16</td>\n",
       "    </tr>\n",
       "  </tbody>\n",
       "</table>\n",
       "</div>"
      ],
      "text/plain": [
       "status product_id  Cancelled  Chargeback  Completed  Pending  Refunded\n",
       "0             P21         18          15         26       25        36\n",
       "1              P6         22          17         31       24        34\n",
       "2              P4         18          11         22       28        33\n",
       "3             P12         17          17         25       24        26\n",
       "4             P67         12          18         26       29        25\n",
       "5             P53         21          28         28       21        24\n",
       "6              P7         18          15         25       26        24\n",
       "7             P93         22          15         31       20        23\n",
       "8             P83         12          16         33       27        22\n",
       "9             P85         17          23         35       22        22\n",
       "10            P88         16          15         21       35        22\n",
       "11           P100         16          24         29       27        22\n",
       "12            P11         23          15         28       29        21\n",
       "13            P22         22          18         26       26        21\n",
       "14            P90         26          16         29       20        21\n",
       "15             P5         21          16         32       27        18\n",
       "16            P24         22          17         47       29        18\n",
       "17            P82         22          20         32       26        18\n",
       "18            P23         16          22         31       33        17\n",
       "19            P30         24          17         30       21        16"
      ]
     },
     "execution_count": 68,
     "metadata": {},
     "output_type": "execute_result"
    }
   ],
   "source": [
    "top_20p = data[data.product_id.isin(data['product_id'].value_counts().sort_values(ascending=False).head(20).index.tolist())]\n",
    "\n",
    "top_20p.pivot_table(index='product_id', columns='status', aggfunc='count')['transaction_id'].sort_values('Refunded', ascending=False).reset_index()"
   ]
  },
  {
   "cell_type": "markdown",
   "id": "6e77be96-3243-471d-92c7-183adea33338",
   "metadata": {},
   "source": [
    "**Observation**\n",
    "- Product `P24` has the highest number of Completed transactions and eight highest Cancelled transactions\n",
    "- Product `P53` has the highest number of Chargebacks\n",
    "- Product `P21` has the highest number of Refunded transactions\n",
    "- Product `P90` has the highest number of Cancelled transactions"
   ]
  },
  {
   "cell_type": "markdown",
   "id": "0a12510d-8ff8-493c-925f-f1ffc345bfcb",
   "metadata": {},
   "source": [
    "### Check Merchant_ID"
   ]
  },
  {
   "cell_type": "code",
   "execution_count": 69,
   "id": "ab263028-5466-4458-8926-c4edc545ff76",
   "metadata": {},
   "outputs": [
    {
     "data": {
      "text/plain": [
       "Index(['transaction_id', 'date', 'time', 'customer_id', 'product_id', 'amount',\n",
       "       'payment_type', 'country', 'merchant_id', 'status', 'exchange_rate',\n",
       "       'total_usd'],\n",
       "      dtype='object')"
      ]
     },
     "execution_count": 69,
     "metadata": {},
     "output_type": "execute_result"
    }
   ],
   "source": [
    "data.columns"
   ]
  },
  {
   "cell_type": "code",
   "execution_count": 70,
   "id": "2bd29800-1710-41c7-9eb9-5de758102d94",
   "metadata": {},
   "outputs": [
    {
     "data": {
      "text/plain": [
       "<Axes: xlabel='count', ylabel='merchant_id'>"
      ]
     },
     "execution_count": 70,
     "metadata": {},
     "output_type": "execute_result"
    },
    {
     "data": {
      "image/png": "[encoded data removed]",
      "text/plain": [
       "<Figure size 1200x800 with 1 Axes>"
      ]
     },
     "metadata": {},
     "output_type": "display_data"
    }
   ],
   "source": [
    "# top 20 merchants\n",
    "plt.figure(figsize=(12,8))\n",
    "sns.countplot(data=data[data.merchant_id.isin(data['merchant_id'].value_counts().sort_values(ascending=False).head(20).index.tolist())], y='merchant_id', hue='status')"
   ]
  },
  {
   "cell_type": "code",
   "execution_count": 76,
   "id": "e5079faa-28ec-48cc-816b-454bc9edfeb3",
   "metadata": {},
   "outputs": [
    {
     "data": {
      "text/html": [
       "<div>\n",
       "<style scoped>\n",
       "    .dataframe tbody tr th:only-of-type {\n",
       "        vertical-align: middle;\n",
       "    }\n",
       "\n",
       "    .dataframe tbody tr th {\n",
       "        vertical-align: top;\n",
       "    }\n",
       "\n",
       "    .dataframe thead th {\n",
       "        text-align: right;\n",
       "    }\n",
       "</style>\n",
       "<table border=\"1\" class=\"dataframe\">\n",
       "  <thead>\n",
       "    <tr style=\"text-align: right;\">\n",
       "      <th>status</th>\n",
       "      <th>merchant_id</th>\n",
       "      <th>Cancelled</th>\n",
       "      <th>Chargeback</th>\n",
       "      <th>Completed</th>\n",
       "      <th>Pending</th>\n",
       "      <th>Refunded</th>\n",
       "    </tr>\n",
       "  </thead>\n",
       "  <tbody>\n",
       "    <tr>\n",
       "      <th>0</th>\n",
       "      <td>M49</td>\n",
       "      <td>43</td>\n",
       "      <td>38</td>\n",
       "      <td>58</td>\n",
       "      <td>35</td>\n",
       "      <td>49</td>\n",
       "    </tr>\n",
       "    <tr>\n",
       "      <th>1</th>\n",
       "      <td>M20</td>\n",
       "      <td>40</td>\n",
       "      <td>28</td>\n",
       "      <td>52</td>\n",
       "      <td>57</td>\n",
       "      <td>36</td>\n",
       "    </tr>\n",
       "    <tr>\n",
       "      <th>2</th>\n",
       "      <td>M45</td>\n",
       "      <td>39</td>\n",
       "      <td>22</td>\n",
       "      <td>45</td>\n",
       "      <td>46</td>\n",
       "      <td>54</td>\n",
       "    </tr>\n",
       "    <tr>\n",
       "      <th>3</th>\n",
       "      <td>M47</td>\n",
       "      <td>39</td>\n",
       "      <td>25</td>\n",
       "      <td>62</td>\n",
       "      <td>42</td>\n",
       "      <td>40</td>\n",
       "    </tr>\n",
       "    <tr>\n",
       "      <th>4</th>\n",
       "      <td>M14</td>\n",
       "      <td>38</td>\n",
       "      <td>24</td>\n",
       "      <td>53</td>\n",
       "      <td>49</td>\n",
       "      <td>46</td>\n",
       "    </tr>\n",
       "    <tr>\n",
       "      <th>5</th>\n",
       "      <td>M50</td>\n",
       "      <td>37</td>\n",
       "      <td>31</td>\n",
       "      <td>54</td>\n",
       "      <td>45</td>\n",
       "      <td>47</td>\n",
       "    </tr>\n",
       "    <tr>\n",
       "      <th>6</th>\n",
       "      <td>M12</td>\n",
       "      <td>37</td>\n",
       "      <td>28</td>\n",
       "      <td>47</td>\n",
       "      <td>57</td>\n",
       "      <td>43</td>\n",
       "    </tr>\n",
       "    <tr>\n",
       "      <th>7</th>\n",
       "      <td>M16</td>\n",
       "      <td>36</td>\n",
       "      <td>32</td>\n",
       "      <td>52</td>\n",
       "      <td>44</td>\n",
       "      <td>47</td>\n",
       "    </tr>\n",
       "    <tr>\n",
       "      <th>8</th>\n",
       "      <td>M23</td>\n",
       "      <td>36</td>\n",
       "      <td>38</td>\n",
       "      <td>54</td>\n",
       "      <td>43</td>\n",
       "      <td>50</td>\n",
       "    </tr>\n",
       "    <tr>\n",
       "      <th>9</th>\n",
       "      <td>M44</td>\n",
       "      <td>36</td>\n",
       "      <td>28</td>\n",
       "      <td>53</td>\n",
       "      <td>48</td>\n",
       "      <td>47</td>\n",
       "    </tr>\n",
       "    <tr>\n",
       "      <th>10</th>\n",
       "      <td>M11</td>\n",
       "      <td>35</td>\n",
       "      <td>33</td>\n",
       "      <td>53</td>\n",
       "      <td>44</td>\n",
       "      <td>50</td>\n",
       "    </tr>\n",
       "    <tr>\n",
       "      <th>11</th>\n",
       "      <td>M26</td>\n",
       "      <td>35</td>\n",
       "      <td>33</td>\n",
       "      <td>48</td>\n",
       "      <td>50</td>\n",
       "      <td>39</td>\n",
       "    </tr>\n",
       "    <tr>\n",
       "      <th>12</th>\n",
       "      <td>M48</td>\n",
       "      <td>35</td>\n",
       "      <td>30</td>\n",
       "      <td>60</td>\n",
       "      <td>48</td>\n",
       "      <td>52</td>\n",
       "    </tr>\n",
       "    <tr>\n",
       "      <th>13</th>\n",
       "      <td>M34</td>\n",
       "      <td>34</td>\n",
       "      <td>35</td>\n",
       "      <td>55</td>\n",
       "      <td>41</td>\n",
       "      <td>46</td>\n",
       "    </tr>\n",
       "    <tr>\n",
       "      <th>14</th>\n",
       "      <td>M27</td>\n",
       "      <td>33</td>\n",
       "      <td>30</td>\n",
       "      <td>50</td>\n",
       "      <td>53</td>\n",
       "      <td>44</td>\n",
       "    </tr>\n",
       "    <tr>\n",
       "      <th>15</th>\n",
       "      <td>M31</td>\n",
       "      <td>32</td>\n",
       "      <td>35</td>\n",
       "      <td>51</td>\n",
       "      <td>49</td>\n",
       "      <td>46</td>\n",
       "    </tr>\n",
       "    <tr>\n",
       "      <th>16</th>\n",
       "      <td>M8</td>\n",
       "      <td>32</td>\n",
       "      <td>38</td>\n",
       "      <td>55</td>\n",
       "      <td>42</td>\n",
       "      <td>45</td>\n",
       "    </tr>\n",
       "    <tr>\n",
       "      <th>17</th>\n",
       "      <td>M43</td>\n",
       "      <td>30</td>\n",
       "      <td>24</td>\n",
       "      <td>57</td>\n",
       "      <td>50</td>\n",
       "      <td>51</td>\n",
       "    </tr>\n",
       "    <tr>\n",
       "      <th>18</th>\n",
       "      <td>M19</td>\n",
       "      <td>30</td>\n",
       "      <td>34</td>\n",
       "      <td>51</td>\n",
       "      <td>45</td>\n",
       "      <td>55</td>\n",
       "    </tr>\n",
       "    <tr>\n",
       "      <th>19</th>\n",
       "      <td>M7</td>\n",
       "      <td>29</td>\n",
       "      <td>34</td>\n",
       "      <td>54</td>\n",
       "      <td>56</td>\n",
       "      <td>36</td>\n",
       "    </tr>\n",
       "  </tbody>\n",
       "</table>\n",
       "</div>"
      ],
      "text/plain": [
       "status merchant_id  Cancelled  Chargeback  Completed  Pending  Refunded\n",
       "0              M49         43          38         58       35        49\n",
       "1              M20         40          28         52       57        36\n",
       "2              M45         39          22         45       46        54\n",
       "3              M47         39          25         62       42        40\n",
       "4              M14         38          24         53       49        46\n",
       "5              M50         37          31         54       45        47\n",
       "6              M12         37          28         47       57        43\n",
       "7              M16         36          32         52       44        47\n",
       "8              M23         36          38         54       43        50\n",
       "9              M44         36          28         53       48        47\n",
       "10             M11         35          33         53       44        50\n",
       "11             M26         35          33         48       50        39\n",
       "12             M48         35          30         60       48        52\n",
       "13             M34         34          35         55       41        46\n",
       "14             M27         33          30         50       53        44\n",
       "15             M31         32          35         51       49        46\n",
       "16              M8         32          38         55       42        45\n",
       "17             M43         30          24         57       50        51\n",
       "18             M19         30          34         51       45        55\n",
       "19              M7         29          34         54       56        36"
      ]
     },
     "execution_count": 76,
     "metadata": {},
     "output_type": "execute_result"
    }
   ],
   "source": [
    "top_20m = data[data.merchant_id.isin(data['merchant_id'].value_counts().sort_values(ascending=False).head(20).index.tolist())]\n",
    "\n",
    "top_20m.pivot_table(index='merchant_id', columns='status', aggfunc='count')['transaction_id'].sort_values('Cancelled', ascending=False).reset_index()"
   ]
  },
  {
   "cell_type": "markdown",
   "id": "6c2ca8a4-3ec2-45cd-8055-2c3b96ad085f",
   "metadata": {},
   "source": [
    "**Observation**\n",
    "- Merchant `M49` has the highest number of Cancelled transactions\n",
    "- Merchant `M47` has the highest number of Completed transactions and fourth highest number of Cnacelled transactions\n",
    "- Merchant `M19` has the highest number of Refunded transactions\n",
    "- Merchant `M8` highest number of Chargeback transactions and sixth highest number of Completed transactions"
   ]
  },
  {
   "cell_type": "code",
   "execution_count": 77,
   "id": "a7ea1e95-c1ef-44e7-8bcd-4d9053f725aa",
   "metadata": {},
   "outputs": [
    {
     "data": {
      "text/plain": [
       "<Axes: xlabel='count', ylabel='merchant_id'>"
      ]
     },
     "execution_count": 77,
     "metadata": {},
     "output_type": "execute_result"
    },
    {
     "data": {
      "image/png": "[encoded data removed]",
      "text/plain": [
       "<Figure size 1200x800 with 1 Axes>"
      ]
     },
     "metadata": {},
     "output_type": "display_data"
    }
   ],
   "source": [
    "# top 20 merchants\n",
    "plt.figure(figsize=(12,8))\n",
    "sns.countplot(data=data[data.merchant_id.isin(data['merchant_id'].value_counts().sort_values(ascending=False).head(20).index.tolist())], y='merchant_id', hue='payment_type')"
   ]
  },
  {
   "cell_type": "code",
   "execution_count": 78,
   "id": "b934de55-40bd-419e-9a23-f62e89de4449",
   "metadata": {},
   "outputs": [
    {
     "data": {
      "text/plain": [
       "payment_type\n",
       "Debit Card     1358\n",
       "Credit Card    1306\n",
       "PayPal         1203\n",
       "Name: count, dtype: int64"
      ]
     },
     "execution_count": 78,
     "metadata": {},
     "output_type": "execute_result"
    }
   ],
   "source": [
    "# top 20 merchants by payment type\n",
    "top_20m = data[data.merchant_id.isin(data['merchant_id'].value_counts().sort_values(ascending=False).head(20).index.tolist())]\n",
    "\n",
    "top_20m.payment_type.value_counts()"
   ]
  },
  {
   "cell_type": "code",
   "execution_count": 79,
   "id": "ae83a446-da91-4637-b4a3-129e12a1ef20",
   "metadata": {
    "scrolled": true
   },
   "outputs": [
    {
     "data": {
      "text/html": [
       "<div>\n",
       "<style scoped>\n",
       "    .dataframe tbody tr th:only-of-type {\n",
       "        vertical-align: middle;\n",
       "    }\n",
       "\n",
       "    .dataframe tbody tr th {\n",
       "        vertical-align: top;\n",
       "    }\n",
       "\n",
       "    .dataframe thead th {\n",
       "        text-align: right;\n",
       "    }\n",
       "</style>\n",
       "<table border=\"1\" class=\"dataframe\">\n",
       "  <thead>\n",
       "    <tr style=\"text-align: right;\">\n",
       "      <th>payment_type</th>\n",
       "      <th>Credit Card</th>\n",
       "      <th>Debit Card</th>\n",
       "      <th>PayPal</th>\n",
       "    </tr>\n",
       "    <tr>\n",
       "      <th>merchant_id</th>\n",
       "      <th></th>\n",
       "      <th></th>\n",
       "      <th></th>\n",
       "    </tr>\n",
       "  </thead>\n",
       "  <tbody>\n",
       "    <tr>\n",
       "      <th>M11</th>\n",
       "      <td>64</td>\n",
       "      <td>80</td>\n",
       "      <td>61</td>\n",
       "    </tr>\n",
       "    <tr>\n",
       "      <th>M48</th>\n",
       "      <td>64</td>\n",
       "      <td>79</td>\n",
       "      <td>55</td>\n",
       "    </tr>\n",
       "    <tr>\n",
       "      <th>M34</th>\n",
       "      <td>67</td>\n",
       "      <td>77</td>\n",
       "      <td>50</td>\n",
       "    </tr>\n",
       "    <tr>\n",
       "      <th>M27</th>\n",
       "      <td>57</td>\n",
       "      <td>74</td>\n",
       "      <td>58</td>\n",
       "    </tr>\n",
       "    <tr>\n",
       "      <th>M49</th>\n",
       "      <td>78</td>\n",
       "      <td>73</td>\n",
       "      <td>55</td>\n",
       "    </tr>\n",
       "    <tr>\n",
       "      <th>M26</th>\n",
       "      <td>58</td>\n",
       "      <td>73</td>\n",
       "      <td>59</td>\n",
       "    </tr>\n",
       "    <tr>\n",
       "      <th>M7</th>\n",
       "      <td>65</td>\n",
       "      <td>73</td>\n",
       "      <td>55</td>\n",
       "    </tr>\n",
       "    <tr>\n",
       "      <th>M45</th>\n",
       "      <td>52</td>\n",
       "      <td>73</td>\n",
       "      <td>70</td>\n",
       "    </tr>\n",
       "    <tr>\n",
       "      <th>M20</th>\n",
       "      <td>55</td>\n",
       "      <td>69</td>\n",
       "      <td>65</td>\n",
       "    </tr>\n",
       "    <tr>\n",
       "      <th>M31</th>\n",
       "      <td>72</td>\n",
       "      <td>69</td>\n",
       "      <td>53</td>\n",
       "    </tr>\n",
       "    <tr>\n",
       "      <th>M50</th>\n",
       "      <td>74</td>\n",
       "      <td>67</td>\n",
       "      <td>52</td>\n",
       "    </tr>\n",
       "    <tr>\n",
       "      <th>M43</th>\n",
       "      <td>63</td>\n",
       "      <td>66</td>\n",
       "      <td>61</td>\n",
       "    </tr>\n",
       "    <tr>\n",
       "      <th>M23</th>\n",
       "      <td>73</td>\n",
       "      <td>66</td>\n",
       "      <td>59</td>\n",
       "    </tr>\n",
       "    <tr>\n",
       "      <th>M47</th>\n",
       "      <td>65</td>\n",
       "      <td>66</td>\n",
       "      <td>57</td>\n",
       "    </tr>\n",
       "    <tr>\n",
       "      <th>M44</th>\n",
       "      <td>62</td>\n",
       "      <td>63</td>\n",
       "      <td>68</td>\n",
       "    </tr>\n",
       "    <tr>\n",
       "      <th>M14</th>\n",
       "      <td>67</td>\n",
       "      <td>63</td>\n",
       "      <td>64</td>\n",
       "    </tr>\n",
       "    <tr>\n",
       "      <th>M16</th>\n",
       "      <td>62</td>\n",
       "      <td>61</td>\n",
       "      <td>60</td>\n",
       "    </tr>\n",
       "    <tr>\n",
       "      <th>M19</th>\n",
       "      <td>68</td>\n",
       "      <td>58</td>\n",
       "      <td>65</td>\n",
       "    </tr>\n",
       "    <tr>\n",
       "      <th>M12</th>\n",
       "      <td>66</td>\n",
       "      <td>57</td>\n",
       "      <td>67</td>\n",
       "    </tr>\n",
       "    <tr>\n",
       "      <th>M8</th>\n",
       "      <td>74</td>\n",
       "      <td>51</td>\n",
       "      <td>69</td>\n",
       "    </tr>\n",
       "  </tbody>\n",
       "</table>\n",
       "</div>"
      ],
      "text/plain": [
       "payment_type  Credit Card  Debit Card  PayPal\n",
       "merchant_id                                  \n",
       "M11                    64          80      61\n",
       "M48                    64          79      55\n",
       "M34                    67          77      50\n",
       "M27                    57          74      58\n",
       "M49                    78          73      55\n",
       "M26                    58          73      59\n",
       "M7                     65          73      55\n",
       "M45                    52          73      70\n",
       "M20                    55          69      65\n",
       "M31                    72          69      53\n",
       "M50                    74          67      52\n",
       "M43                    63          66      61\n",
       "M23                    73          66      59\n",
       "M47                    65          66      57\n",
       "M44                    62          63      68\n",
       "M14                    67          63      64\n",
       "M16                    62          61      60\n",
       "M19                    68          58      65\n",
       "M12                    66          57      67\n",
       "M8                     74          51      69"
      ]
     },
     "execution_count": 79,
     "metadata": {},
     "output_type": "execute_result"
    }
   ],
   "source": [
    "top_20m.pivot_table(index='merchant_id', columns='payment_type', aggfunc='count')['transaction_id'].sort_values('Debit Card', ascending=False)"
   ]
  },
  {
   "cell_type": "markdown",
   "id": "19ea4503-ac42-4e31-b252-fd59862976a4",
   "metadata": {},
   "source": [
    "### Check date/time features"
   ]
  },
  {
   "cell_type": "code",
   "execution_count": 80,
   "id": "7c72942c-28f7-4d24-a792-26d1dafd3943",
   "metadata": {},
   "outputs": [
    {
     "data": {
      "text/html": [
       "<div>\n",
       "<style scoped>\n",
       "    .dataframe tbody tr th:only-of-type {\n",
       "        vertical-align: middle;\n",
       "    }\n",
       "\n",
       "    .dataframe tbody tr th {\n",
       "        vertical-align: top;\n",
       "    }\n",
       "\n",
       "    .dataframe thead th {\n",
       "        text-align: right;\n",
       "    }\n",
       "</style>\n",
       "<table border=\"1\" class=\"dataframe\">\n",
       "  <thead>\n",
       "    <tr style=\"text-align: right;\">\n",
       "      <th></th>\n",
       "      <th>date</th>\n",
       "      <th>time</th>\n",
       "    </tr>\n",
       "  </thead>\n",
       "  <tbody>\n",
       "    <tr>\n",
       "      <th>5761</th>\n",
       "      <td>2024-01-10</td>\n",
       "      <td>07:53:43</td>\n",
       "    </tr>\n",
       "    <tr>\n",
       "      <th>2935</th>\n",
       "      <td>2023-09-18</td>\n",
       "      <td>11:52:11</td>\n",
       "    </tr>\n",
       "    <tr>\n",
       "      <th>7755</th>\n",
       "      <td>2024-02-15</td>\n",
       "      <td>01:12:46</td>\n",
       "    </tr>\n",
       "    <tr>\n",
       "      <th>9655</th>\n",
       "      <td>2023-08-01</td>\n",
       "      <td>21:31:22</td>\n",
       "    </tr>\n",
       "    <tr>\n",
       "      <th>1751</th>\n",
       "      <td>2023-11-16</td>\n",
       "      <td>10:31:12</td>\n",
       "    </tr>\n",
       "  </tbody>\n",
       "</table>\n",
       "</div>"
      ],
      "text/plain": [
       "            date      time\n",
       "5761  2024-01-10  07:53:43\n",
       "2935  2023-09-18  11:52:11\n",
       "7755  2024-02-15  01:12:46\n",
       "9655  2023-08-01  21:31:22\n",
       "1751  2023-11-16  10:31:12"
      ]
     },
     "execution_count": 80,
     "metadata": {},
     "output_type": "execute_result"
    }
   ],
   "source": [
    "data[dt_cols].sample(5)"
   ]
  },
  {
   "cell_type": "code",
   "execution_count": 81,
   "id": "78e2d087-7a59-4325-9536-f719a2cba2f8",
   "metadata": {},
   "outputs": [],
   "source": [
    "# add date features\n",
    "data['date_time'] = data['date'] + ' ' + data['time']\n",
    "data['date_time'] = pd.to_datetime(data['date_time'])\n",
    "\n",
    "data['year'] = data['date_time'].dt.year\n",
    "data['month'] = data['date_time'].dt.month\n",
    "data['day'] = data['date_time'].dt.day\n",
    "data['dow'] = data['date_time'].dt.dayofweek\n",
    "data['hour'] = data['date_time'].dt.hour\n",
    "data['is_weekend'] = (data.dow > 4).astype(int)"
   ]
  },
  {
   "cell_type": "code",
   "execution_count": 82,
   "id": "f57f29d4-c955-4a4f-a13b-adccb8a19ced",
   "metadata": {},
   "outputs": [
    {
     "data": {
      "text/html": [
       "<div>\n",
       "<style scoped>\n",
       "    .dataframe tbody tr th:only-of-type {\n",
       "        vertical-align: middle;\n",
       "    }\n",
       "\n",
       "    .dataframe tbody tr th {\n",
       "        vertical-align: top;\n",
       "    }\n",
       "\n",
       "    .dataframe thead th {\n",
       "        text-align: right;\n",
       "    }\n",
       "</style>\n",
       "<table border=\"1\" class=\"dataframe\">\n",
       "  <thead>\n",
       "    <tr style=\"text-align: right;\">\n",
       "      <th></th>\n",
       "      <th>date_time</th>\n",
       "      <th>year</th>\n",
       "      <th>month</th>\n",
       "      <th>day</th>\n",
       "      <th>dow</th>\n",
       "      <th>hour</th>\n",
       "      <th>is_weekend</th>\n",
       "    </tr>\n",
       "  </thead>\n",
       "  <tbody>\n",
       "    <tr>\n",
       "      <th>8075</th>\n",
       "      <td>2023-07-03 02:59:38</td>\n",
       "      <td>2023</td>\n",
       "      <td>7</td>\n",
       "      <td>3</td>\n",
       "      <td>0</td>\n",
       "      <td>2</td>\n",
       "      <td>0</td>\n",
       "    </tr>\n",
       "    <tr>\n",
       "      <th>4656</th>\n",
       "      <td>2023-10-05 00:45:52</td>\n",
       "      <td>2023</td>\n",
       "      <td>10</td>\n",
       "      <td>5</td>\n",
       "      <td>3</td>\n",
       "      <td>0</td>\n",
       "      <td>0</td>\n",
       "    </tr>\n",
       "    <tr>\n",
       "      <th>7623</th>\n",
       "      <td>2024-04-22 03:14:24</td>\n",
       "      <td>2024</td>\n",
       "      <td>4</td>\n",
       "      <td>22</td>\n",
       "      <td>0</td>\n",
       "      <td>3</td>\n",
       "      <td>0</td>\n",
       "    </tr>\n",
       "    <tr>\n",
       "      <th>3420</th>\n",
       "      <td>2023-05-17 08:31:48</td>\n",
       "      <td>2023</td>\n",
       "      <td>5</td>\n",
       "      <td>17</td>\n",
       "      <td>2</td>\n",
       "      <td>8</td>\n",
       "      <td>0</td>\n",
       "    </tr>\n",
       "    <tr>\n",
       "      <th>72</th>\n",
       "      <td>2023-08-25 15:51:17</td>\n",
       "      <td>2023</td>\n",
       "      <td>8</td>\n",
       "      <td>25</td>\n",
       "      <td>4</td>\n",
       "      <td>15</td>\n",
       "      <td>0</td>\n",
       "    </tr>\n",
       "  </tbody>\n",
       "</table>\n",
       "</div>"
      ],
      "text/plain": [
       "               date_time  year  month  day  dow  hour  is_weekend\n",
       "8075 2023-07-03 02:59:38  2023      7    3    0     2           0\n",
       "4656 2023-10-05 00:45:52  2023     10    5    3     0           0\n",
       "7623 2024-04-22 03:14:24  2024      4   22    0     3           0\n",
       "3420 2023-05-17 08:31:48  2023      5   17    2     8           0\n",
       "72   2023-08-25 15:51:17  2023      8   25    4    15           0"
      ]
     },
     "execution_count": 82,
     "metadata": {},
     "output_type": "execute_result"
    }
   ],
   "source": [
    "data[['date_time','year','month','day','dow','hour','is_weekend']].sample(5)"
   ]
  },
  {
   "cell_type": "code",
   "execution_count": 83,
   "id": "e1891de5-b16e-4f0f-b359-1fbe41d22288",
   "metadata": {},
   "outputs": [
    {
     "data": {
      "text/plain": [
       "<Axes: xlabel='count', ylabel='year'>"
      ]
     },
     "execution_count": 83,
     "metadata": {},
     "output_type": "execute_result"
    },
    {
     "data": {
      "image/png": "[encoded data removed]",
      "text/plain": [
       "<Figure size 640x480 with 1 Axes>"
      ]
     },
     "metadata": {},
     "output_type": "display_data"
    }
   ],
   "source": [
    "sns.countplot(data=data, y='year', hue='status')"
   ]
  },
  {
   "cell_type": "code",
   "execution_count": 84,
   "id": "4f1c0434-cb4b-4573-8e83-05ff23725618",
   "metadata": {},
   "outputs": [
    {
     "data": {
      "text/plain": [
       "<Axes: xlabel='count', ylabel='month'>"
      ]
     },
     "execution_count": 84,
     "metadata": {},
     "output_type": "execute_result"
    },
    {
     "data": {
      "image/png": "[encoded data removed]",
      "text/plain": [
       "<Figure size 640x480 with 1 Axes>"
      ]
     },
     "metadata": {},
     "output_type": "display_data"
    }
   ],
   "source": [
    "sns.countplot(data=data, y='month', hue='status')"
   ]
  },
  {
   "cell_type": "code",
   "execution_count": 97,
   "id": "9d882ade-1061-4580-b663-133869b55b2d",
   "metadata": {},
   "outputs": [
    {
     "data": {
      "text/html": [
       "<div>\n",
       "<style scoped>\n",
       "    .dataframe tbody tr th:only-of-type {\n",
       "        vertical-align: middle;\n",
       "    }\n",
       "\n",
       "    .dataframe tbody tr th {\n",
       "        vertical-align: top;\n",
       "    }\n",
       "\n",
       "    .dataframe thead th {\n",
       "        text-align: right;\n",
       "    }\n",
       "</style>\n",
       "<table border=\"1\" class=\"dataframe\">\n",
       "  <thead>\n",
       "    <tr style=\"text-align: right;\">\n",
       "      <th>status</th>\n",
       "      <th>month</th>\n",
       "      <th>Cancelled</th>\n",
       "      <th>Chargeback</th>\n",
       "      <th>Completed</th>\n",
       "      <th>Pending</th>\n",
       "      <th>Refunded</th>\n",
       "    </tr>\n",
       "  </thead>\n",
       "  <tbody>\n",
       "    <tr>\n",
       "      <th>0</th>\n",
       "      <td>6</td>\n",
       "      <td>118</td>\n",
       "      <td>104</td>\n",
       "      <td>216</td>\n",
       "      <td>165</td>\n",
       "      <td>196</td>\n",
       "    </tr>\n",
       "    <tr>\n",
       "      <th>1</th>\n",
       "      <td>7</td>\n",
       "      <td>145</td>\n",
       "      <td>146</td>\n",
       "      <td>221</td>\n",
       "      <td>205</td>\n",
       "      <td>190</td>\n",
       "    </tr>\n",
       "    <tr>\n",
       "      <th>2</th>\n",
       "      <td>10</td>\n",
       "      <td>124</td>\n",
       "      <td>124</td>\n",
       "      <td>198</td>\n",
       "      <td>183</td>\n",
       "      <td>186</td>\n",
       "    </tr>\n",
       "    <tr>\n",
       "      <th>3</th>\n",
       "      <td>2</td>\n",
       "      <td>120</td>\n",
       "      <td>129</td>\n",
       "      <td>219</td>\n",
       "      <td>193</td>\n",
       "      <td>181</td>\n",
       "    </tr>\n",
       "    <tr>\n",
       "      <th>4</th>\n",
       "      <td>9</td>\n",
       "      <td>123</td>\n",
       "      <td>123</td>\n",
       "      <td>207</td>\n",
       "      <td>183</td>\n",
       "      <td>180</td>\n",
       "    </tr>\n",
       "    <tr>\n",
       "      <th>5</th>\n",
       "      <td>3</td>\n",
       "      <td>158</td>\n",
       "      <td>139</td>\n",
       "      <td>212</td>\n",
       "      <td>169</td>\n",
       "      <td>174</td>\n",
       "    </tr>\n",
       "    <tr>\n",
       "      <th>6</th>\n",
       "      <td>5</td>\n",
       "      <td>164</td>\n",
       "      <td>131</td>\n",
       "      <td>222</td>\n",
       "      <td>191</td>\n",
       "      <td>173</td>\n",
       "    </tr>\n",
       "    <tr>\n",
       "      <th>7</th>\n",
       "      <td>4</td>\n",
       "      <td>128</td>\n",
       "      <td>120</td>\n",
       "      <td>201</td>\n",
       "      <td>180</td>\n",
       "      <td>170</td>\n",
       "    </tr>\n",
       "    <tr>\n",
       "      <th>8</th>\n",
       "      <td>12</td>\n",
       "      <td>148</td>\n",
       "      <td>110</td>\n",
       "      <td>211</td>\n",
       "      <td>204</td>\n",
       "      <td>170</td>\n",
       "    </tr>\n",
       "    <tr>\n",
       "      <th>9</th>\n",
       "      <td>1</td>\n",
       "      <td>151</td>\n",
       "      <td>100</td>\n",
       "      <td>205</td>\n",
       "      <td>194</td>\n",
       "      <td>169</td>\n",
       "    </tr>\n",
       "    <tr>\n",
       "      <th>10</th>\n",
       "      <td>11</td>\n",
       "      <td>126</td>\n",
       "      <td>124</td>\n",
       "      <td>194</td>\n",
       "      <td>181</td>\n",
       "      <td>165</td>\n",
       "    </tr>\n",
       "    <tr>\n",
       "      <th>11</th>\n",
       "      <td>8</td>\n",
       "      <td>146</td>\n",
       "      <td>125</td>\n",
       "      <td>239</td>\n",
       "      <td>173</td>\n",
       "      <td>154</td>\n",
       "    </tr>\n",
       "  </tbody>\n",
       "</table>\n",
       "</div>"
      ],
      "text/plain": [
       "status  month  Cancelled  Chargeback  Completed  Pending  Refunded\n",
       "0           6        118         104        216      165       196\n",
       "1           7        145         146        221      205       190\n",
       "2          10        124         124        198      183       186\n",
       "3           2        120         129        219      193       181\n",
       "4           9        123         123        207      183       180\n",
       "5           3        158         139        212      169       174\n",
       "6           5        164         131        222      191       173\n",
       "7           4        128         120        201      180       170\n",
       "8          12        148         110        211      204       170\n",
       "9           1        151         100        205      194       169\n",
       "10         11        126         124        194      181       165\n",
       "11          8        146         125        239      173       154"
      ]
     },
     "execution_count": 97,
     "metadata": {},
     "output_type": "execute_result"
    }
   ],
   "source": [
    "data.pivot_table(index='month', columns='status', aggfunc='count')['transaction_id'].sort_values('Refunded', ascending=False).reset_index()"
   ]
  },
  {
   "cell_type": "markdown",
   "id": "4c59f840-cf00-4fc5-9859-1f208ee33a84",
   "metadata": {},
   "source": [
    "**Observations**\n",
    "\n",
    "- Month `5` has highest number of Cancelled transactions, second highest number of Completed transactions and third highest number of Chargeback transactions.\n",
    "- Month `7` has highest number of Chargeback transaction, third highest number of Completed transactions and second highest number of Refunded transactions\n",
    "- Month `8` has highest number of Completed transaction"
   ]
  },
  {
   "cell_type": "code",
   "execution_count": 98,
   "id": "db008c9b-e123-43e8-818b-df94ffc4e1d8",
   "metadata": {},
   "outputs": [
    {
     "data": {
      "text/plain": [
       "<Axes: xlabel='count', ylabel='dow'>"
      ]
     },
     "execution_count": 98,
     "metadata": {},
     "output_type": "execute_result"
    },
    {
     "data": {
      "image/png": "[encoded data removed]",
      "text/plain": [
       "<Figure size 640x480 with 1 Axes>"
      ]
     },
     "metadata": {},
     "output_type": "display_data"
    }
   ],
   "source": [
    "sns.countplot(data=data, y='dow', hue='status')"
   ]
  },
  {
   "cell_type": "code",
   "execution_count": 102,
   "id": "d3994f57-6160-412a-9696-c4b3f4a455a4",
   "metadata": {},
   "outputs": [
    {
     "data": {
      "text/html": [
       "<div>\n",
       "<style scoped>\n",
       "    .dataframe tbody tr th:only-of-type {\n",
       "        vertical-align: middle;\n",
       "    }\n",
       "\n",
       "    .dataframe tbody tr th {\n",
       "        vertical-align: top;\n",
       "    }\n",
       "\n",
       "    .dataframe thead th {\n",
       "        text-align: right;\n",
       "    }\n",
       "</style>\n",
       "<table border=\"1\" class=\"dataframe\">\n",
       "  <thead>\n",
       "    <tr style=\"text-align: right;\">\n",
       "      <th>status</th>\n",
       "      <th>dow</th>\n",
       "      <th>Cancelled</th>\n",
       "      <th>Chargeback</th>\n",
       "      <th>Completed</th>\n",
       "      <th>Pending</th>\n",
       "      <th>Refunded</th>\n",
       "    </tr>\n",
       "  </thead>\n",
       "  <tbody>\n",
       "    <tr>\n",
       "      <th>0</th>\n",
       "      <td>2</td>\n",
       "      <td>259</td>\n",
       "      <td>210</td>\n",
       "      <td>361</td>\n",
       "      <td>287</td>\n",
       "      <td>322</td>\n",
       "    </tr>\n",
       "    <tr>\n",
       "      <th>1</th>\n",
       "      <td>4</td>\n",
       "      <td>232</td>\n",
       "      <td>216</td>\n",
       "      <td>379</td>\n",
       "      <td>335</td>\n",
       "      <td>317</td>\n",
       "    </tr>\n",
       "    <tr>\n",
       "      <th>2</th>\n",
       "      <td>6</td>\n",
       "      <td>233</td>\n",
       "      <td>197</td>\n",
       "      <td>336</td>\n",
       "      <td>312</td>\n",
       "      <td>307</td>\n",
       "    </tr>\n",
       "    <tr>\n",
       "      <th>3</th>\n",
       "      <td>3</td>\n",
       "      <td>236</td>\n",
       "      <td>200</td>\n",
       "      <td>339</td>\n",
       "      <td>314</td>\n",
       "      <td>303</td>\n",
       "    </tr>\n",
       "    <tr>\n",
       "      <th>4</th>\n",
       "      <td>5</td>\n",
       "      <td>230</td>\n",
       "      <td>225</td>\n",
       "      <td>380</td>\n",
       "      <td>340</td>\n",
       "      <td>295</td>\n",
       "    </tr>\n",
       "    <tr>\n",
       "      <th>5</th>\n",
       "      <td>0</td>\n",
       "      <td>210</td>\n",
       "      <td>209</td>\n",
       "      <td>363</td>\n",
       "      <td>306</td>\n",
       "      <td>286</td>\n",
       "    </tr>\n",
       "    <tr>\n",
       "      <th>6</th>\n",
       "      <td>1</td>\n",
       "      <td>251</td>\n",
       "      <td>218</td>\n",
       "      <td>387</td>\n",
       "      <td>327</td>\n",
       "      <td>278</td>\n",
       "    </tr>\n",
       "  </tbody>\n",
       "</table>\n",
       "</div>"
      ],
      "text/plain": [
       "status  dow  Cancelled  Chargeback  Completed  Pending  Refunded\n",
       "0         2        259         210        361      287       322\n",
       "1         4        232         216        379      335       317\n",
       "2         6        233         197        336      312       307\n",
       "3         3        236         200        339      314       303\n",
       "4         5        230         225        380      340       295\n",
       "5         0        210         209        363      306       286\n",
       "6         1        251         218        387      327       278"
      ]
     },
     "execution_count": 102,
     "metadata": {},
     "output_type": "execute_result"
    }
   ],
   "source": [
    "data.pivot_table(index='dow', columns='status', aggfunc='count')['transaction_id'].sort_values('Refunded', ascending=False).reset_index()"
   ]
  },
  {
   "cell_type": "markdown",
   "id": "c73f6a75-7d0a-4dc5-a8dc-272d3f2000c3",
   "metadata": {},
   "source": [
    "**Observations**\n",
    "\n",
    "- DOW `5` has the highest number of Chargeback transactions and second highest number of Completed transactions."
   ]
  },
  {
   "cell_type": "code",
   "execution_count": 103,
   "id": "3a166539-2e06-40e6-9b7a-584cde49c1e4",
   "metadata": {},
   "outputs": [
    {
     "data": {
      "text/plain": [
       "<Axes: xlabel='count', ylabel='is_weekend'>"
      ]
     },
     "execution_count": 103,
     "metadata": {},
     "output_type": "execute_result"
    },
    {
     "data": {
      "image/png": "[encoded data removed]",
      "text/plain": [
       "<Figure size 640x480 with 1 Axes>"
      ]
     },
     "metadata": {},
     "output_type": "display_data"
    }
   ],
   "source": [
    "sns.countplot(data=data, y='is_weekend', hue='status')"
   ]
  },
  {
   "cell_type": "code",
   "execution_count": 104,
   "id": "4c7bef35-b3d2-4574-8c3e-c03484121933",
   "metadata": {},
   "outputs": [],
   "source": [
    "# save to disk\n",
    "data.to_csv('data/financial_transactions_10k_processed.csv')"
   ]
  },
  {
   "cell_type": "code",
   "execution_count": null,
   "id": "a35a8a44-6135-4019-9f8a-0fca11eb6d32",
   "metadata": {},
   "outputs": [],
   "source": []
  }
 ],
 "metadata": {
  "kernelspec": {
   "display_name": "Python 3 (ipykernel)",
   "language": "python",
   "name": "python3"
  },
  "language_info": {
   "codemirror_mode": {
    "name": "ipython",
    "version": 3
   },
   "file_extension": ".py",
   "mimetype": "text/x-python",
   "name": "python",
   "nbconvert_exporter": "python",
   "pygments_lexer": "ipython3",
   "version": "3.10.14"
  }
 },
 "nbformat": 4,
 "nbformat_minor": 5
}
